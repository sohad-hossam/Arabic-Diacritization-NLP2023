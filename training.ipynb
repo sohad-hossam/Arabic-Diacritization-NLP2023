{
 "cells": [
  {
   "cell_type": "markdown",
   "metadata": {},
   "source": [
    "<h2>Team Members</h2>\n",
    "<ul>\n",
    "<li>Sohad Hossam Eldin 1190019</li>\n",
    "<li>Bassant Hisham Mohamed 1190018</li>\n",
    "<li>Yasmin Hashem Niazy 4200013</li>\n",
    "<li>Mary Ashraf 1190322</li>\n",
    "</ul>"
   ]
  },
  {
   "cell_type": "markdown",
   "metadata": {},
   "source": [
    "<h4>Imports</h4>"
   ]
  },
  {
   "cell_type": "code",
   "execution_count": 4,
   "metadata": {},
   "outputs": [
    {
     "name": "stderr",
     "output_type": "stream",
     "text": [
      "[nltk_data] Downloading package punkt to\n",
      "[nltk_data]     C:\\Users\\sohad\\AppData\\Roaming\\nltk_data...\n",
      "[nltk_data]   Package punkt is already up-to-date!\n"
     ]
    }
   ],
   "source": [
    "from imports import *"
   ]
  },
  {
   "cell_type": "markdown",
   "metadata": {},
   "source": [
    "<h4>preprocessing and feature extraction</h4>"
   ]
  },
  {
   "cell_type": "code",
   "execution_count": 5,
   "metadata": {},
   "outputs": [
    {
     "name": "stdout",
     "output_type": "stream",
     "text": [
      "[[1, 7], [1, 1, 1], [0, 7, 1, 9, 3], [1, 1, 3], [0, 1, 7]]\n",
      "278416 5 3 16\n",
      "['أو', 'قطع', 'الأول', 'يده', 'إلخ']\n"
     ]
    }
   ],
   "source": [
    "def Tokenizing(dataset_sentences):\n",
    "    harakat  = {\n",
    "                    \"\": 0,     # No Diacritic\n",
    "                    \"َ\": 1,     # Fatha\n",
    "                    \"ً\": 2,     # Fathatah\n",
    "                    \"ُ\": 3,     # Damma\n",
    "                    \"ٌ\": 4,     # Dammatan\n",
    "                    \"ِ\": 5,     # Kasra\n",
    "                    \"ٍ\": 6,     # Kasratan\n",
    "                    \"ْ\": 7,     # Sukun\n",
    "                    \"ّ\": 8,     # Shaddah\n",
    "                    \"َّ\": 9,     # Shaddah + Fatha\n",
    "                    \"ًّ\": 10,    # Shaddah + Fathatah\n",
    "                    \"ُّ\": 11,    # Shaddah + Damma\n",
    "                    \"ٌّ\": 12,    # Shaddah + Dammatan\n",
    "                    \"ِّ\": 13,    # Shaddah + Kasra\n",
    "                    \"ٍّ\": 14,    # Shaddah + Kasratan\n",
    "                            \n",
    "                }\n",
    "        \n",
    "    arabic_alphabet = {\n",
    "                            \"ا\": 1,\n",
    "                            \"ب\": 2,\n",
    "                            \"ت\": 3,\n",
    "                            \"ث\": 4,\n",
    "                            \"ج\": 5,\n",
    "                            \"ح\": 6,\n",
    "                            \"خ\": 7,\n",
    "                            \"د\": 8,\n",
    "                            \"ذ\": 9,\n",
    "                            \"ر\": 10,\n",
    "                            \"ز\": 11,\n",
    "                            \"س\": 12,\n",
    "                            \"ش\": 13,\n",
    "                            \"ص\": 14,\n",
    "                            \"ض\": 15,\n",
    "                            \"ط\": 16,\n",
    "                            \"ظ\": 17,\n",
    "                            \"ع\": 18,\n",
    "                            \"غ\": 19,\n",
    "                            \"ف\": 20,\n",
    "                            \"ق\": 21,\n",
    "                            \"ك\": 22,\n",
    "                            \"ل\": 23,\n",
    "                            \"م\": 24,\n",
    "                            \"ن\": 25,\n",
    "                            \"ه\": 26,\n",
    "                            \"و\": 27,\n",
    "                            \"ي\": 28,\n",
    "                            \"آ\": 29,\n",
    "                            \"إ\": 30,\n",
    "                            \"ئ\": 31,\n",
    "                            \"ء\": 32,\n",
    "                            \"أ\": 33,\n",
    "                            \"ؤ\":34,\n",
    "                            \"ة\":35,\n",
    "                            \"ى\":36,\n",
    "                        }\n",
    "\n",
    "    x_train_letters = []\n",
    "    y_train_letters = []\n",
    "    x_train_words = []\n",
    "    for sentence in dataset_sentences:\n",
    "        sentence_wihout_diacratics = strip_tashkeel(sentence)\n",
    "        tokens = word_tokenize(sentence, language=\"arabic\", preserve_line=True)\n",
    "        tokens_wihtout_diacratics = word_tokenize(sentence_wihout_diacratics, language=\"arabic\", preserve_line=True)\n",
    "\n",
    "        sentence_x = list()\n",
    "        sentence_y = list()\n",
    "        for word in tokens:\n",
    "            text, inputs, diacritics =util.extract_haraqat(word)\n",
    "            \n",
    "            word_x = list()\n",
    "            word_y = list()\n",
    "            for i in range(len(inputs)):\n",
    "                # for every char we see its rep in arabic_alphabet and get its 1 hot encoding vector\n",
    "                word_x.append(arabic_alphabet[inputs[i]])\n",
    "                word_y.append(harakat[diacritics[i]])\n",
    "                # word_x.append(inputs[i])\n",
    "                # word_y.append(diacritics[i])\n",
    "            sentence_x.append(word_x)\n",
    "            sentence_y.append(word_y)\n",
    "        if(len(sentence_x) != 0):\n",
    "            # 4d array len of sentences * len of words * len of chars * one hot encoding size\n",
    "            x_train_letters.append(sentence_x)\n",
    "            # 3d array len of sentences * len of words * number of diacritics --> represents the diacritics as indices check (harakat dict) \n",
    "            y_train_letters.append(sentence_y)\n",
    "\n",
    "        if(len(tokens_wihtout_diacratics)) :\n",
    "            x_train_words.append(tokens_wihtout_diacratics)\n",
    "\n",
    "\n",
    "    print(y_train_letters[1])\n",
    "    print(len(x_train_letters), len(x_train_letters[1]), len(x_train_letters[1][1]), x_train_letters[1][1][1])\n",
    "    print(x_train_words[1])\n",
    "    return x_train_letters,y_train_letters,x_train_words\n",
    "\n",
    "dataset_txt = open(r\"train.txt\", \"r\", encoding='utf-8').read()\n",
    "chars_to_remove = r\"\\(\\s*[a-zA-Z0-9_-`]+\\s*/\\s*[a-zA-Z0-9_-`]+\\s*\\)|[a-zA-Z0-9_-]+|-|`|–|~|\\u200f|'\" \n",
    "dataset_cleaned = re.sub(chars_to_remove, \"\", dataset_txt)\n",
    "dataset_sentences = re.split(r\"\\s*\\.\\s*|\\n|\\s*،\\s*|\\s*:\\s*|\\s*[()]\\s*|\\s*؛\\s*|\\s*؟\\s*|\\s*!\\s*|\\s*\\\"\\s*|\\s*\\[\\s*|\\s*\\]\\s*|\\s*{\\s*|\\s*}\\s*|\\s*\\*\\s*|\\s*»\\s*|\\s*«\\s*|\\s*\\\\\\s*|\\s*/\\s*|\\s*;\\s*|\\s*,\\s*\",dataset_cleaned)\n",
    "\n",
    "x_train_chars,y_train_chars,x_train_words = Tokenizing(dataset_sentences)"
   ]
  },
  {
   "cell_type": "code",
   "execution_count": null,
   "metadata": {},
   "outputs": [],
   "source": [
    "model = Word2Vec(sentences=x_train_words, vector_size=100, window=5, min_count=1, workers=4)\n",
    "\n",
    "model.save(\"my_word2vec_model\")"
   ]
  },
  {
   "cell_type": "code",
   "execution_count": 6,
   "metadata": {},
   "outputs": [],
   "source": [
    "one_hot_enconding = np.eye(37) \n",
    "word2vec_model = Word2Vec.load(\"my_word2vec_model\")\n",
    "embedding_matrix = np.zeros((len(word2vec_model.wv.index_to_key) + 1, word2vec_model.vector_size))\n",
    "\n",
    "word_index_x = {word: idx + 1 for idx, word in enumerate(word2vec_model.wv.index_to_key)}\n",
    "for word, idx in word_index_x.items():\n",
    "    embedding_matrix[idx] = word2vec_model.wv[word]\n",
    "\n",
    "x_train_words_indices = [[word_index_x[word] for word in sentence] for sentence in x_train_words]"
   ]
  },
  {
   "cell_type": "markdown",
   "metadata": {},
   "source": [
    "<h3>Dataset class<h3>"
   ]
  },
  {
   "cell_type": "code",
   "execution_count": 7,
   "metadata": {},
   "outputs": [],
   "source": [
    "class ArabicDataset(Dataset):\n",
    "\n",
    "    def __init__(self, x_train_words, x_train_chars, y_train_chars, one_hot_enconding):\n",
    "        # the words dataset that will be given to the first model\n",
    "        max_list_length = max(len(_) for _ in x_train_words)\n",
    "        x_padded = [_ + [0] * (max_list_length - len(_)) for _ in x_train_words]\n",
    "        self.tensor_x_words = torch.tensor(x_padded)\n",
    "\n",
    "        x_padded_chars = [_ + [[]] * (max_list_length - len(_)) for _ in x_train_chars]\n",
    "        #print(x_padded_chars[1])\n",
    "        #print(len(x_padded_chars[1]),len(x_padded_chars[1][1]))\n",
    "\n",
    "        # for sentence in x_train_chars:\n",
    "        #     temp=list()\n",
    "        #     for i in range(max_list_length - len(sentence)):\n",
    "        #         temp.append([])\n",
    "        #     sentence.extend(temp)\n",
    "\n",
    "        max_char_length = max(len(word) for sentence in x_train_chars for word in sentence)\n",
    "        for i in range(len(x_padded_chars)): #0->253\n",
    "            for j in range(len(x_padded_chars[i])):\n",
    "                temp=list()\n",
    "                for k in range(max_char_length - len(x_padded_chars[i][j])):\n",
    "                    temp.append(0)\n",
    "                #print(temp)\n",
    "                if(len(temp)!=0):\n",
    "                    x_padded_chars[i][j].extend(temp)\n",
    "        \n",
    "        #print(len(x_padded_chars), len(x_padded_chars[2]), len(x_padded_chars[2][1]), x_padded_chars[2][1][1])\n",
    "        self.tensor_x_chars = torch.tensor(x_padded_chars)\n",
    "\n",
    "        max_char_length = max(len(word) for sentence in y_train_chars for word in sentence)\n",
    "        #for sentence in y_train_chars: \n",
    "            #y_padded_chars.append([word + [0] * (max_char_length - len(word)) for word in sentence])\n",
    "        y_padded_chars = [_ + [[]] * (max_list_length - len(_)) for _ in y_train_chars]    \n",
    "        for i in range(len(y_padded_chars)): #0->253\n",
    "            for j in range(len(y_padded_chars[i])):\n",
    "                temp=list()\n",
    "                for k in range(max_char_length - len(y_padded_chars[i][j])):\n",
    "                    temp.append(0)\n",
    "                #print(temp)\n",
    "                if(len(temp)!=0):\n",
    "                    y_padded_chars[i][j].extend(temp)\n",
    "        self.tensor_y_chars = torch.tensor(y_padded_chars)\n",
    "\n",
    "        #print(len(self.tensor_y_chars),len(self.tensor_y_chars[0]))\n",
    "        #print(self.tensor_x_words[0], self.tensor_x_chars[0], self.tensor_y_chars[0])\n",
    "        \n",
    "\n",
    "    def __len__(self):\n",
    "\n",
    "        return len(self.tensor_x_chars)\n",
    "\n",
    "    # get a row at an index\n",
    "    # The __getitem__ function loads and returns a sample from the dataset at the given index idx\n",
    "\n",
    "    def __getitem__(self, idx):\n",
    "        return self.tensor_x_chars[idx], self.tensor_y_chars[idx], self.tensor_x_words[idx]\n"
   ]
  },
  {
   "cell_type": "markdown",
   "metadata": {},
   "source": [
    "<h4> Word2vec Feature Extraction </h4>"
   ]
  },
  {
   "cell_type": "code",
   "execution_count": null,
   "metadata": {},
   "outputs": [],
   "source": [
    "dataset = ArabicDataset(x_train_words_indices, x_train_chars, y_train_chars, one_hot_enconding)\n",
    "torch.save(dataset, 'ArabicDataset.pt')"
   ]
  },
  {
   "cell_type": "code",
   "execution_count": null,
   "metadata": {},
   "outputs": [],
   "source": [
    "print(dataset.tensor_x_words[0])"
   ]
  },
  {
   "cell_type": "code",
   "execution_count": 8,
   "metadata": {},
   "outputs": [],
   "source": [
    "dataset = torch.load('ArabicDataset.pt')"
   ]
  },
  {
   "cell_type": "markdown",
   "metadata": {},
   "source": [
    "<h4> applying Bi-LSTM </h4>"
   ]
  },
  {
   "cell_type": "code",
   "execution_count": 10,
   "metadata": {},
   "outputs": [],
   "source": [
    "class Bi_Lstm(nn.Module):\n",
    "\n",
    "  def __init__(self,embedding_matrix : np.array, embedding_dim : tuple, one_hot_enconding:np.array,hot_encoding_vector_len : int=37 , num_chars : int =37 , hidden_size_layer_words : int=32, hidden_size_layer_chars : int =32, classes : int=15):\n",
    "      super(Bi_Lstm, self).__init__()\n",
    "      self.embedding_words=nn.Embedding(num_embeddings = embedding_dim[0], embedding_dim = embedding_dim[1], _weight = torch.tensor(embedding_matrix))\n",
    "      self.lstm_layer_words = nn.LSTM(embedding_dim[1], hidden_size = hidden_size_layer_words, batch_first = True, bidirectional = True)\n",
    "      self.embedding_char=nn.Embedding(num_embeddings = num_chars, embedding_dim = hot_encoding_vector_len, _weight = torch.tensor(one_hot_enconding))\n",
    "      self.lstm_layer_char = nn.LSTM(hidden_size_layer_words * 2 + hot_encoding_vector_len, hidden_size=hidden_size_layer_chars, batch_first=True, bidirectional=True)\n",
    "      self.linear = nn.Linear(2 * hidden_size_layer_chars, classes, bias=True)\n",
    "\n",
    "  def forward(self,sentences,words):\n",
    "      feature_vector = self.embedding_words(sentences) # sentences * words *253\n",
    "\n",
    "      feature_vector = feature_vector.to(dtype=torch.float)\n",
    "      lstm_output = self.lstm_layer_words(feature_vector) # sentences * words *200\n",
    "      #print(lstm_output[0].shape)  \n",
    "      # looping over lstm_output to remove unwanted feature vectors\n",
    "      no_of_sentences, length_of_sentence, feature_vector_size = lstm_output[0].shape\n",
    "      lstm_output_words= lstm_output[0]\n",
    "      lstm_output_words_2d=lstm_output_words.reshape(-1,lstm_output_words.shape[2])\n",
    "      #print(lstm_output_words_2d.shape)\n",
    "      embedding_char_output_4d=self.embedding_char(words)  # sentences * words * chars * one hot encoding for each char\n",
    "      #words * chars * one hot encoding for each char\n",
    "      embedding_char_output_3d=embedding_char_output_4d.reshape(-1,embedding_char_output_4d.shape[2],embedding_char_output_4d.shape[3])\n",
    "      #print(embedding_char_output_3d.shape)\n",
    "\n",
    "      #print(lstm_output_words_2d[0]) # words*hot encoding vector\n",
    "      embedding_char_output_3d_concatenated=torch.zeros(embedding_char_output_3d.shape[0],embedding_char_output_3d.shape[1],embedding_char_output_3d.shape[2]+lstm_output_words_2d.shape[1])\n",
    "      for word in range(len(lstm_output_words_2d)):\n",
    "            for chars in range(len(embedding_char_output_3d[word])):\n",
    "               embedding_char_output_3d_concatenated[word][chars]  = torch.cat([embedding_char_output_3d[word][chars],lstm_output_words_2d[word]])\n",
    "    # print(embedding_char_output_3d_concatenated.shape) \n",
    "      lstm_output_char = self.lstm_layer_char(embedding_char_output_3d_concatenated)\n",
    "      final_output = self.linear(lstm_output_char[0])\n",
    "      print(final_output.shape)\n",
    "      return final_output\n"
   ]
  },
  {
   "cell_type": "code",
   "execution_count": 11,
   "metadata": {},
   "outputs": [],
   "source": [
    "model=Bi_Lstm(embedding_matrix,(len(word2vec_model.wv.index_to_key) + 1, word2vec_model.vector_size),one_hot_enconding)"
   ]
  },
  {
   "cell_type": "code",
   "execution_count": 14,
   "metadata": {},
   "outputs": [
    {
     "name": "stdout",
     "output_type": "stream",
     "text": [
      "torch.Size([25300, 200])\n",
      "torch.Size([25300, 13, 15])\n"
     ]
    },
    {
     "data": {
      "text/plain": [
       "tensor([[[ 0.0358, -0.0114, -0.0013,  ...,  0.0158, -0.0482,  0.0400],\n",
       "         [ 0.0134, -0.0198, -0.0141,  ...,  0.0198, -0.0561,  0.0339],\n",
       "         [ 0.0237, -0.0176, -0.0095,  ...,  0.0187, -0.0664,  0.0403],\n",
       "         ...,\n",
       "         [ 0.0189, -0.0251,  0.0002,  ...,  0.0077, -0.0540,  0.0471],\n",
       "         [ 0.0159, -0.0180, -0.0020,  ...,  0.0127, -0.0548,  0.0495],\n",
       "         [ 0.0115, -0.0050, -0.0088,  ...,  0.0209, -0.0550,  0.0499]],\n",
       "\n",
       "        [[ 0.0485,  0.0186,  0.0046,  ...,  0.0338, -0.0712,  0.0798],\n",
       "         [ 0.0455,  0.0172,  0.0030,  ...,  0.0352, -0.0655,  0.0775],\n",
       "         [ 0.0439,  0.0164,  0.0030,  ...,  0.0367, -0.0627,  0.0756],\n",
       "         ...,\n",
       "         [ 0.0368,  0.0164,  0.0045,  ...,  0.0422, -0.0587,  0.0736],\n",
       "         [ 0.0338,  0.0184,  0.0019,  ...,  0.0432, -0.0567,  0.0715],\n",
       "         [ 0.0287,  0.0223, -0.0043,  ...,  0.0438, -0.0523,  0.0658]],\n",
       "\n",
       "        [[ 0.0490,  0.0225,  0.0094,  ...,  0.0420, -0.0713,  0.0835],\n",
       "         [ 0.0468,  0.0207,  0.0087,  ...,  0.0444, -0.0642,  0.0820],\n",
       "         [ 0.0459,  0.0193,  0.0093,  ...,  0.0463, -0.0603,  0.0806],\n",
       "         ...,\n",
       "         [ 0.0408,  0.0166,  0.0100,  ...,  0.0516, -0.0541,  0.0788],\n",
       "         [ 0.0379,  0.0179,  0.0069,  ...,  0.0518, -0.0518,  0.0762],\n",
       "         [ 0.0330,  0.0207,  0.0001,  ...,  0.0506, -0.0469,  0.0699]],\n",
       "\n",
       "        ...,\n",
       "\n",
       "        [[ 0.0510,  0.0280,  0.0157,  ...,  0.0513, -0.0732,  0.0836],\n",
       "         [ 0.0494,  0.0258,  0.0164,  ...,  0.0543, -0.0649,  0.0830],\n",
       "         [ 0.0490,  0.0241,  0.0176,  ...,  0.0566, -0.0603,  0.0822],\n",
       "         ...,\n",
       "         [ 0.0452,  0.0189,  0.0173,  ...,  0.0619, -0.0522,  0.0810],\n",
       "         [ 0.0421,  0.0192,  0.0136,  ...,  0.0612, -0.0494,  0.0785],\n",
       "         [ 0.0367,  0.0208,  0.0062,  ...,  0.0578, -0.0437,  0.0725]],\n",
       "\n",
       "        [[ 0.0512,  0.0290,  0.0156,  ...,  0.0514, -0.0725,  0.0837],\n",
       "         [ 0.0495,  0.0270,  0.0162,  ...,  0.0543, -0.0642,  0.0830],\n",
       "         [ 0.0490,  0.0254,  0.0173,  ...,  0.0564, -0.0597,  0.0821],\n",
       "         ...,\n",
       "         [ 0.0451,  0.0203,  0.0168,  ...,  0.0616, -0.0517,  0.0808],\n",
       "         [ 0.0420,  0.0205,  0.0131,  ...,  0.0609, -0.0490,  0.0783],\n",
       "         [ 0.0365,  0.0219,  0.0057,  ...,  0.0575, -0.0435,  0.0721]],\n",
       "\n",
       "        [[ 0.0520,  0.0307,  0.0152,  ...,  0.0515, -0.0709,  0.0839],\n",
       "         [ 0.0501,  0.0290,  0.0154,  ...,  0.0539, -0.0628,  0.0830],\n",
       "         [ 0.0496,  0.0277,  0.0163,  ...,  0.0558, -0.0584,  0.0821],\n",
       "         ...,\n",
       "         [ 0.0454,  0.0228,  0.0154,  ...,  0.0608, -0.0506,  0.0806],\n",
       "         [ 0.0422,  0.0229,  0.0117,  ...,  0.0602, -0.0480,  0.0780],\n",
       "         [ 0.0364,  0.0241,  0.0044,  ...,  0.0565, -0.0431,  0.0717]]],\n",
       "       grad_fn=<AddBackward0>)"
      ]
     },
     "execution_count": 14,
     "metadata": {},
     "output_type": "execute_result"
    }
   ],
   "source": [
    "model.forward(dataset.tensor_x_words[:100],dataset.tensor_x_chars[:100])"
   ]
  },
  {
   "cell_type": "code",
   "execution_count": 14,
   "metadata": {},
   "outputs": [],
   "source": [
    "def train(model, train_dataset, batch_size=10, epochs=1, learning_rate=0.01):\n",
    "      ############################## TODO: replace the Nones in the following code ##################################\n",
    "\n",
    "    # (1) create the dataloader of the training set (make the shuffle=True)\n",
    "    train_dataloader = torch.utils.data.DataLoader(train_dataset, batch_size)\n",
    "\n",
    "    # (2) make the criterion cross entropy loss\n",
    "    criterion = torch.nn.CrossEntropyLoss() \n",
    "\n",
    "    # (3) create the optimizer (Adam)\n",
    "    optimizer = torch.optim.Adam(model.parameters(),lr=0.01)\n",
    "\n",
    "    for epoch_num in range(epochs):\n",
    "        total_acc_train = 0\n",
    "        total_loss_train = 0\n",
    "        n_samples=0\n",
    "\n",
    "        for train_input_words, train_label, train_input_sentences in tqdm(train_dataloader):\n",
    "            # print(train_input_words.shape, train_label.shape, train_input_sentences.shape)\n",
    "            # (6) do the forward pass\n",
    "            output = model.forward(train_input_sentences, train_input_words)\n",
    "            \n",
    "            # (7) loss calculation (you need to think in this part how to calculate the loss correctly)\n",
    "            # label: 100 * 253 * 13\n",
    "            # output: 25300 word * 13 char * 15 \n",
    "            # k2eny fket el array l words msh sentence of words\n",
    "            # print(output.view(-1, output.size(2)).shape, train_label.view(-1).shape)\n",
    "\n",
    "            batch_loss = criterion(output.view(-1, output.size(2)), train_label.view(-1))\n",
    "\n",
    "            # (8) append the batch loss to the total_loss_train\n",
    "\n",
    "            total_loss_train += batch_loss\n",
    "            \n",
    "            # (9) calculate the batch accuracy (just add the number of correct predictions)\n",
    "            _,predicted=torch.max(output,2)  #512 * 104  for every word in every sentence we choose one tag form the seventen tag \n",
    "            acc=(predicted==train_label.view(-1, train_label.shape[2])).sum().item()\n",
    "            n_samples += train_label.size(0)*train_label.size(1)*train_label.size(2)\n",
    "            total_acc_train += acc\n",
    "            print(100*total_acc_train/n_samples)\n",
    "\n",
    "            # (10) zero your gradients\n",
    "            optimizer.zero_grad()\n",
    "\n",
    "            # (11) do the backward pass\n",
    "            batch_loss.backward()\n",
    "            nn.utils.clip_grad_norm(model.parameters(), max_norm=1)\n",
    "\n",
    "            # (12) update the weights with your optimizer\n",
    "            optimizer.step()\n",
    "        \n",
    "        # epoch loss\n",
    "        epoch_loss = total_loss_train / len(train_dataset)\n",
    "\n",
    "        # (13) calculate the accuracy\n",
    "        epoch_acc =100*total_acc_train/n_samples\n",
    "\n",
    "        print(\n",
    "            f'Epochs: {epoch_num + 1} | Train Loss: {epoch_loss} \\\n",
    "            | Train Accuracy: {epoch_acc}\\n')\n",
    "\n",
    "  ##############################################################################################################"
   ]
  },
  {
   "cell_type": "code",
   "execution_count": 15,
   "metadata": {},
   "outputs": [
    {
     "name": "stderr",
     "output_type": "stream",
     "text": [
      "  0%|          | 0/278416 [00:00<?, ?it/s]"
     ]
    },
    {
     "name": "stdout",
     "output_type": "stream",
     "text": [
      "torch.Size([1, 253, 13]) torch.Size([1, 253, 13]) torch.Size([1, 253])\n",
      "torch.Size([253, 13, 15])\n",
      "torch.Size([3289, 15]) torch.Size([3289])\n",
      "0.0\n"
     ]
    },
    {
     "name": "stderr",
     "output_type": "stream",
     "text": [
      "C:\\Users\\sohad\\AppData\\Local\\Temp\\ipykernel_18956\\3578052967.py:47: UserWarning: torch.nn.utils.clip_grad_norm is now deprecated in favor of torch.nn.utils.clip_grad_norm_.\n",
      "  nn.utils.clip_grad_norm(model.parameters(), max_norm=1)\n",
      "  0%|          | 1/278416 [00:01<137:17:07,  1.78s/it]"
     ]
    },
    {
     "name": "stdout",
     "output_type": "stream",
     "text": [
      "torch.Size([1, 253, 13]) torch.Size([1, 253, 13]) torch.Size([1, 253])\n",
      "torch.Size([253, 13, 15])\n",
      "torch.Size([3289, 15]) torch.Size([3289])\n",
      "49.61994527211918\n"
     ]
    },
    {
     "name": "stderr",
     "output_type": "stream",
     "text": [
      "  0%|          | 2/278416 [00:03<136:09:42,  1.76s/it]"
     ]
    },
    {
     "name": "stdout",
     "output_type": "stream",
     "text": [
      "torch.Size([1, 253, 13]) torch.Size([1, 253, 13]) torch.Size([1, 253])\n",
      "torch.Size([253, 13, 15])\n",
      "torch.Size([3289, 15]) torch.Size([3289])\n",
      "66.34235329887504\n"
     ]
    },
    {
     "name": "stderr",
     "output_type": "stream",
     "text": [
      "  0%|          | 3/278416 [00:05<145:04:54,  1.88s/it]"
     ]
    },
    {
     "name": "stdout",
     "output_type": "stream",
     "text": [
      "torch.Size([1, 253, 13]) torch.Size([1, 253, 13]) torch.Size([1, 253])\n",
      "torch.Size([253, 13, 15])\n",
      "torch.Size([3289, 15]) torch.Size([3289])\n",
      "74.71115840681058\n"
     ]
    },
    {
     "name": "stderr",
     "output_type": "stream",
     "text": [
      "  0%|          | 4/278416 [00:07<145:50:23,  1.89s/it]"
     ]
    },
    {
     "name": "stdout",
     "output_type": "stream",
     "text": [
      "torch.Size([1, 253, 13]) torch.Size([1, 253, 13]) torch.Size([1, 253])\n",
      "torch.Size([253, 13, 15])\n",
      "torch.Size([3289, 15]) torch.Size([3289])\n",
      "79.74460322286409\n"
     ]
    },
    {
     "name": "stderr",
     "output_type": "stream",
     "text": [
      "  0%|          | 5/278416 [00:09<142:34:34,  1.84s/it]"
     ]
    },
    {
     "name": "stdout",
     "output_type": "stream",
     "text": [
      "torch.Size([1, 253, 13]) torch.Size([1, 253, 13]) torch.Size([1, 253])\n",
      "torch.Size([253, 13, 15])\n",
      "torch.Size([3289, 15]) torch.Size([3289])\n",
      "82.89753724536334\n"
     ]
    },
    {
     "name": "stderr",
     "output_type": "stream",
     "text": [
      "  0%|          | 6/278416 [00:11<146:09:15,  1.89s/it]"
     ]
    },
    {
     "name": "stdout",
     "output_type": "stream",
     "text": [
      "torch.Size([1, 253, 13]) torch.Size([1, 253, 13]) torch.Size([1, 253])\n",
      "torch.Size([253, 13, 15])\n",
      "torch.Size([3289, 15]) torch.Size([3289])\n",
      "85.25822004082873\n"
     ]
    },
    {
     "name": "stderr",
     "output_type": "stream",
     "text": [
      "  0%|          | 7/278416 [00:12<144:03:14,  1.86s/it]"
     ]
    },
    {
     "name": "stdout",
     "output_type": "stream",
     "text": [
      "torch.Size([1, 253, 13]) torch.Size([1, 253, 13]) torch.Size([1, 253])\n",
      "torch.Size([253, 13, 15])\n",
      "torch.Size([3289, 15]) torch.Size([3289])\n",
      "87.0781392520523\n"
     ]
    },
    {
     "name": "stderr",
     "output_type": "stream",
     "text": [
      "  0%|          | 8/278416 [00:14<147:03:03,  1.90s/it]"
     ]
    },
    {
     "name": "stdout",
     "output_type": "stream",
     "text": [
      "torch.Size([1, 253, 13]) torch.Size([1, 253, 13]) torch.Size([1, 253])\n",
      "torch.Size([253, 13, 15])\n",
      "torch.Size([3289, 15]) torch.Size([3289])\n",
      "88.49025370764501\n"
     ]
    },
    {
     "name": "stderr",
     "output_type": "stream",
     "text": [
      "  0%|          | 9/278416 [00:16<145:02:05,  1.88s/it]"
     ]
    },
    {
     "name": "stdout",
     "output_type": "stream",
     "text": [
      "torch.Size([1, 253, 13]) torch.Size([1, 253, 13]) torch.Size([1, 253])\n",
      "torch.Size([253, 13, 15])\n",
      "torch.Size([3289, 15]) torch.Size([3289])\n",
      "89.477044694436\n"
     ]
    },
    {
     "name": "stderr",
     "output_type": "stream",
     "text": [
      "  0%|          | 10/278416 [00:18<147:52:01,  1.91s/it]"
     ]
    },
    {
     "name": "stdout",
     "output_type": "stream",
     "text": [
      "torch.Size([1, 253, 13]) torch.Size([1, 253, 13]) torch.Size([1, 253])\n",
      "torch.Size([253, 13, 15])\n",
      "torch.Size([3289, 15]) torch.Size([3289])\n",
      "90.42262085740347\n"
     ]
    },
    {
     "name": "stderr",
     "output_type": "stream",
     "text": [
      "  0%|          | 11/278416 [00:20<146:46:57,  1.90s/it]"
     ]
    },
    {
     "name": "stdout",
     "output_type": "stream",
     "text": [
      "torch.Size([1, 253, 13]) torch.Size([1, 253, 13]) torch.Size([1, 253])\n",
      "torch.Size([253, 13, 15])\n",
      "torch.Size([3289, 15]) torch.Size([3289])\n",
      "91.2106009932097\n"
     ]
    },
    {
     "name": "stderr",
     "output_type": "stream",
     "text": [
      "  0%|          | 12/278416 [00:22<148:50:32,  1.92s/it]"
     ]
    },
    {
     "name": "stdout",
     "output_type": "stream",
     "text": [
      "torch.Size([1, 253, 13]) torch.Size([1, 253, 13]) torch.Size([1, 253])\n",
      "torch.Size([253, 13, 15])\n",
      "torch.Size([3289, 15]) torch.Size([3289])\n",
      "91.81186706270319\n"
     ]
    },
    {
     "name": "stderr",
     "output_type": "stream",
     "text": [
      "  0%|          | 13/278416 [00:24<152:36:31,  1.97s/it]"
     ]
    },
    {
     "name": "stdout",
     "output_type": "stream",
     "text": [
      "torch.Size([1, 253, 13]) torch.Size([1, 253, 13]) torch.Size([1, 253])\n",
      "torch.Size([253, 13, 15])\n",
      "torch.Size([3289, 15]) torch.Size([3289])\n",
      "92.33158146201625\n"
     ]
    },
    {
     "name": "stderr",
     "output_type": "stream",
     "text": [
      "  0%|          | 14/278416 [00:26<152:02:57,  1.97s/it]"
     ]
    },
    {
     "name": "stdout",
     "output_type": "stream",
     "text": [
      "torch.Size([1, 253, 13]) torch.Size([1, 253, 13]) torch.Size([1, 253])\n",
      "torch.Size([253, 13, 15])\n",
      "torch.Size([3289, 15]) torch.Size([3289])\n",
      "92.81037802776933\n"
     ]
    },
    {
     "name": "stderr",
     "output_type": "stream",
     "text": [
      "  0%|          | 15/278416 [00:28<150:29:48,  1.95s/it]"
     ]
    },
    {
     "name": "stdout",
     "output_type": "stream",
     "text": [
      "torch.Size([1, 253, 13]) torch.Size([1, 253, 13]) torch.Size([1, 253])\n",
      "torch.Size([253, 13, 15])\n",
      "torch.Size([3289, 15]) torch.Size([3289])\n",
      "93.24642748555792\n"
     ]
    },
    {
     "name": "stderr",
     "output_type": "stream",
     "text": [
      "  0%|          | 16/278416 [00:30<154:43:29,  2.00s/it]"
     ]
    },
    {
     "name": "stdout",
     "output_type": "stream",
     "text": [
      "torch.Size([1, 253, 13]) torch.Size([1, 253, 13]) torch.Size([1, 253])\n",
      "torch.Size([253, 13, 15])\n",
      "torch.Size([3289, 15]) torch.Size([3289])\n",
      "93.63117700713609\n"
     ]
    },
    {
     "name": "stderr",
     "output_type": "stream",
     "text": [
      "  0%|          | 17/278416 [00:32<152:23:13,  1.97s/it]"
     ]
    },
    {
     "name": "stdout",
     "output_type": "stream",
     "text": [
      "torch.Size([1, 253, 13]) torch.Size([1, 253, 13]) torch.Size([1, 253])\n",
      "torch.Size([253, 13, 15])\n",
      "torch.Size([3289, 15]) torch.Size([3289])\n",
      "93.7856829161177\n"
     ]
    },
    {
     "name": "stderr",
     "output_type": "stream",
     "text": [
      "  0%|          | 18/278416 [00:34<150:56:36,  1.95s/it]"
     ]
    },
    {
     "name": "stdout",
     "output_type": "stream",
     "text": [
      "torch.Size([1, 253, 13]) torch.Size([1, 253, 13]) torch.Size([1, 253])\n",
      "torch.Size([253, 13, 15])\n",
      "torch.Size([3289, 15]) torch.Size([3289])\n",
      "94.03754140596246\n"
     ]
    },
    {
     "name": "stderr",
     "output_type": "stream",
     "text": [
      "  0%|          | 19/278416 [00:36<153:57:47,  1.99s/it]"
     ]
    },
    {
     "name": "stdout",
     "output_type": "stream",
     "text": [
      "torch.Size([1, 253, 13]) torch.Size([1, 253, 13]) torch.Size([1, 253])\n",
      "torch.Size([253, 13, 15])\n",
      "torch.Size([3289, 15]) torch.Size([3289])\n",
      "94.30982061416844\n"
     ]
    },
    {
     "name": "stderr",
     "output_type": "stream",
     "text": [
      "  0%|          | 20/278416 [00:38<157:35:27,  2.04s/it]"
     ]
    },
    {
     "name": "stdout",
     "output_type": "stream",
     "text": [
      "torch.Size([1, 253, 13]) torch.Size([1, 253, 13]) torch.Size([1, 253])\n",
      "torch.Size([253, 13, 15])\n",
      "torch.Size([3289, 15]) torch.Size([3289])\n",
      "94.54458584893368\n"
     ]
    },
    {
     "name": "stderr",
     "output_type": "stream",
     "text": [
      "  0%|          | 21/278416 [00:40<158:37:02,  2.05s/it]"
     ]
    },
    {
     "name": "stdout",
     "output_type": "stream",
     "text": [
      "torch.Size([1, 253, 13]) torch.Size([1, 253, 13]) torch.Size([1, 253])\n",
      "torch.Size([253, 13, 15])\n",
      "torch.Size([3289, 15]) torch.Size([3289])\n",
      "94.74280660051411\n"
     ]
    },
    {
     "name": "stderr",
     "output_type": "stream",
     "text": [
      "  0%|          | 22/278416 [00:43<173:15:20,  2.24s/it]"
     ]
    },
    {
     "name": "stdout",
     "output_type": "stream",
     "text": [
      "torch.Size([1, 253, 13]) torch.Size([1, 253, 13]) torch.Size([1, 253])\n",
      "torch.Size([253, 13, 15])\n",
      "torch.Size([3289, 15]) torch.Size([3289])\n",
      "94.91850304704747\n"
     ]
    },
    {
     "name": "stderr",
     "output_type": "stream",
     "text": [
      "  0%|          | 23/278416 [00:47<205:46:30,  2.66s/it]"
     ]
    },
    {
     "name": "stdout",
     "output_type": "stream",
     "text": [
      "torch.Size([1, 253, 13]) torch.Size([1, 253, 13]) torch.Size([1, 253])\n",
      "torch.Size([253, 13, 15])\n",
      "torch.Size([3289, 15]) torch.Size([3289])\n",
      "95.10362825580216\n"
     ]
    },
    {
     "name": "stderr",
     "output_type": "stream",
     "text": [
      "  0%|          | 24/278416 [00:50<216:32:10,  2.80s/it]"
     ]
    },
    {
     "name": "stdout",
     "output_type": "stream",
     "text": [
      "torch.Size([1, 253, 13]) torch.Size([1, 253, 13]) torch.Size([1, 253])\n",
      "torch.Size([253, 13, 15])\n",
      "torch.Size([3289, 15]) torch.Size([3289])\n",
      "95.22651261781697\n"
     ]
    },
    {
     "name": "stderr",
     "output_type": "stream",
     "text": [
      "  0%|          | 25/278416 [00:53<219:06:55,  2.83s/it]"
     ]
    },
    {
     "name": "stdout",
     "output_type": "stream",
     "text": [
      "torch.Size([1, 253, 13]) torch.Size([1, 253, 13]) torch.Size([1, 253])\n",
      "torch.Size([253, 13, 15])\n",
      "torch.Size([3289, 15]) torch.Size([3289])\n",
      "95.39607549640995\n"
     ]
    },
    {
     "name": "stderr",
     "output_type": "stream",
     "text": [
      "  0%|          | 26/278416 [00:55<212:29:01,  2.75s/it]"
     ]
    },
    {
     "name": "stdout",
     "output_type": "stream",
     "text": [
      "torch.Size([1, 253, 13]) torch.Size([1, 253, 13]) torch.Size([1, 253])\n",
      "torch.Size([253, 13, 15])\n",
      "torch.Size([3289, 15]) torch.Size([3289])\n",
      "95.5620868664347\n"
     ]
    },
    {
     "name": "stderr",
     "output_type": "stream",
     "text": [
      "  0%|          | 27/278416 [00:58<210:40:16,  2.72s/it]"
     ]
    },
    {
     "name": "stdout",
     "output_type": "stream",
     "text": [
      "torch.Size([1, 253, 13]) torch.Size([1, 253, 13]) torch.Size([1, 253])\n",
      "torch.Size([253, 13, 15])\n",
      "torch.Size([3289, 15]) torch.Size([3289])\n",
      "95.71298266950441\n"
     ]
    },
    {
     "name": "stderr",
     "output_type": "stream",
     "text": [
      "  0%|          | 28/278416 [01:00<195:57:03,  2.53s/it]"
     ]
    },
    {
     "name": "stdout",
     "output_type": "stream",
     "text": [
      "torch.Size([1, 253, 13]) torch.Size([1, 253, 13]) torch.Size([1, 253])\n",
      "torch.Size([253, 13, 15])\n",
      "torch.Size([3289, 15]) torch.Size([3289])\n",
      "95.80209895052474\n"
     ]
    },
    {
     "name": "stderr",
     "output_type": "stream",
     "text": [
      "  0%|          | 29/278416 [01:02<186:33:56,  2.41s/it]"
     ]
    },
    {
     "name": "stdout",
     "output_type": "stream",
     "text": [
      "torch.Size([1, 253, 13]) torch.Size([1, 253, 13]) torch.Size([1, 253])\n",
      "torch.Size([253, 13, 15])\n",
      "torch.Size([3289, 15]) torch.Size([3289])\n",
      "95.9369615891355\n"
     ]
    },
    {
     "name": "stderr",
     "output_type": "stream",
     "text": [
      "  0%|          | 30/278416 [01:05<190:43:16,  2.47s/it]"
     ]
    },
    {
     "name": "stdout",
     "output_type": "stream",
     "text": [
      "torch.Size([1, 253, 13]) torch.Size([1, 253, 13]) torch.Size([1, 253])\n",
      "torch.Size([253, 13, 15])\n",
      "torch.Size([3289, 15]) torch.Size([3289])\n",
      "96.05821948037936\n"
     ]
    },
    {
     "name": "stderr",
     "output_type": "stream",
     "text": [
      "  0%|          | 31/278416 [01:07<174:59:24,  2.26s/it]"
     ]
    },
    {
     "name": "stdout",
     "output_type": "stream",
     "text": [
      "torch.Size([1, 253, 13]) torch.Size([1, 253, 13]) torch.Size([1, 253])\n",
      "torch.Size([253, 13, 15])\n",
      "torch.Size([3289, 15]) torch.Size([3289])\n",
      "96.1747491638796\n"
     ]
    },
    {
     "name": "stderr",
     "output_type": "stream",
     "text": [
      "  0%|          | 32/278416 [01:10<205:43:44,  2.66s/it]"
     ]
    },
    {
     "name": "stdout",
     "output_type": "stream",
     "text": [
      "torch.Size([1, 253, 13]) torch.Size([1, 253, 13]) torch.Size([1, 253])\n",
      "torch.Size([253, 13, 15])\n",
      "torch.Size([3289, 15]) torch.Size([3289])\n",
      "96.26118282244765\n"
     ]
    },
    {
     "name": "stderr",
     "output_type": "stream",
     "text": [
      "  0%|          | 33/278416 [01:12<198:46:56,  2.57s/it]"
     ]
    },
    {
     "name": "stdout",
     "output_type": "stream",
     "text": [
      "torch.Size([1, 253, 13]) torch.Size([1, 253, 13]) torch.Size([1, 253])\n",
      "torch.Size([253, 13, 15])\n",
      "torch.Size([3289, 15]) torch.Size([3289])\n",
      "96.35415735159981\n"
     ]
    },
    {
     "name": "stderr",
     "output_type": "stream",
     "text": [
      "  0%|          | 34/278416 [01:14<185:37:19,  2.40s/it]"
     ]
    },
    {
     "name": "stdout",
     "output_type": "stream",
     "text": [
      "torch.Size([1, 253, 13]) torch.Size([1, 253, 13]) torch.Size([1, 253])\n",
      "torch.Size([253, 13, 15])\n",
      "torch.Size([3289, 15]) torch.Size([3289])\n",
      "96.44876862268167\n"
     ]
    },
    {
     "name": "stderr",
     "output_type": "stream",
     "text": [
      "  0%|          | 35/278416 [01:17<187:30:03,  2.42s/it]"
     ]
    },
    {
     "name": "stdout",
     "output_type": "stream",
     "text": [
      "torch.Size([1, 253, 13]) torch.Size([1, 253, 13]) torch.Size([1, 253])\n",
      "torch.Size([253, 13, 15])\n",
      "torch.Size([3289, 15]) torch.Size([3289])\n",
      "96.52461065504544\n"
     ]
    },
    {
     "name": "stderr",
     "output_type": "stream",
     "text": [
      "  0%|          | 36/278416 [01:19<190:33:11,  2.46s/it]"
     ]
    },
    {
     "name": "stdout",
     "output_type": "stream",
     "text": [
      "torch.Size([1, 253, 13]) torch.Size([1, 253, 13]) torch.Size([1, 253])\n",
      "torch.Size([253, 13, 15])\n",
      "torch.Size([3289, 15]) torch.Size([3289])\n",
      "96.58977919847484\n"
     ]
    },
    {
     "name": "stderr",
     "output_type": "stream",
     "text": [
      "  0%|          | 37/278416 [01:23<213:56:11,  2.77s/it]"
     ]
    },
    {
     "name": "stdout",
     "output_type": "stream",
     "text": [
      "torch.Size([1, 253, 13]) torch.Size([1, 253, 13]) torch.Size([1, 253])\n",
      "torch.Size([253, 13, 15])\n",
      "torch.Size([3289, 15]) torch.Size([3289])\n",
      "96.66271943159815\n"
     ]
    },
    {
     "name": "stderr",
     "output_type": "stream",
     "text": [
      "  0%|          | 38/278416 [01:27<231:52:13,  3.00s/it]"
     ]
    },
    {
     "name": "stdout",
     "output_type": "stream",
     "text": [
      "torch.Size([1, 253, 13]) torch.Size([1, 253, 13]) torch.Size([1, 253])\n",
      "torch.Size([253, 13, 15])\n",
      "torch.Size([3289, 15]) torch.Size([3289])\n",
      "96.74283353213119\n"
     ]
    },
    {
     "name": "stderr",
     "output_type": "stream",
     "text": [
      "  0%|          | 39/278416 [01:28<203:28:50,  2.63s/it]"
     ]
    },
    {
     "name": "stdout",
     "output_type": "stream",
     "text": [
      "torch.Size([1, 253, 13]) torch.Size([1, 253, 13]) torch.Size([1, 253])\n",
      "torch.Size([253, 13, 15])\n",
      "torch.Size([3289, 15]) torch.Size([3289])\n",
      "96.80982061416844\n"
     ]
    },
    {
     "name": "stderr",
     "output_type": "stream",
     "text": [
      "  0%|          | 40/278416 [01:30<183:18:12,  2.37s/it]"
     ]
    },
    {
     "name": "stdout",
     "output_type": "stream",
     "text": [
      "torch.Size([1, 253, 13]) torch.Size([1, 253, 13]) torch.Size([1, 253])\n",
      "torch.Size([253, 13, 15])\n",
      "torch.Size([3289, 15]) torch.Size([3289])\n",
      "96.88021416547397\n"
     ]
    },
    {
     "name": "stderr",
     "output_type": "stream",
     "text": [
      "  0%|          | 41/278416 [01:32<174:10:27,  2.25s/it]"
     ]
    },
    {
     "name": "stdout",
     "output_type": "stream",
     "text": [
      "torch.Size([1, 253, 13]) torch.Size([1, 253, 13]) torch.Size([1, 253])\n",
      "torch.Size([253, 13, 15])\n",
      "torch.Size([3289, 15]) torch.Size([3289])\n",
      "96.95087521174477\n"
     ]
    },
    {
     "name": "stderr",
     "output_type": "stream",
     "text": [
      "  0%|          | 42/278416 [01:34<164:06:05,  2.12s/it]"
     ]
    },
    {
     "name": "stdout",
     "output_type": "stream",
     "text": [
      "torch.Size([1, 253, 13]) torch.Size([1, 253, 13]) torch.Size([1, 253])\n",
      "torch.Size([253, 13, 15])\n",
      "torch.Size([3289, 15]) torch.Size([3289])\n",
      "97.01400722634293\n"
     ]
    },
    {
     "name": "stderr",
     "output_type": "stream",
     "text": [
      "  0%|          | 43/278416 [01:36<154:58:39,  2.00s/it]"
     ]
    },
    {
     "name": "stdout",
     "output_type": "stream",
     "text": [
      "torch.Size([1, 253, 13]) torch.Size([1, 253, 13]) torch.Size([1, 253])\n",
      "torch.Size([253, 13, 15])\n",
      "torch.Size([3289, 15]) torch.Size([3289])\n",
      "97.070123552337\n"
     ]
    },
    {
     "name": "stderr",
     "output_type": "stream",
     "text": [
      "  0%|          | 44/278416 [01:37<150:36:44,  1.95s/it]"
     ]
    },
    {
     "name": "stdout",
     "output_type": "stream",
     "text": [
      "torch.Size([1, 253, 13]) torch.Size([1, 253, 13]) torch.Size([1, 253])\n",
      "torch.Size([253, 13, 15])\n",
      "torch.Size([3289, 15]) torch.Size([3289])\n",
      "97.09942231681362\n"
     ]
    },
    {
     "name": "stderr",
     "output_type": "stream",
     "text": [
      "  0%|          | 45/278416 [01:39<150:45:13,  1.95s/it]"
     ]
    },
    {
     "name": "stdout",
     "output_type": "stream",
     "text": [
      "torch.Size([1, 253, 13]) torch.Size([1, 253, 13]) torch.Size([1, 253])\n",
      "torch.Size([253, 13, 15])\n",
      "torch.Size([3289, 15]) torch.Size([3289])\n",
      "97.136039763639\n"
     ]
    },
    {
     "name": "stderr",
     "output_type": "stream",
     "text": [
      "  0%|          | 46/278416 [01:41<146:41:40,  1.90s/it]"
     ]
    },
    {
     "name": "stdout",
     "output_type": "stream",
     "text": [
      "torch.Size([1, 253, 13]) torch.Size([1, 253, 13]) torch.Size([1, 253])\n",
      "torch.Size([253, 13, 15])\n",
      "torch.Size([3289, 15]) torch.Size([3289])\n",
      "97.18403705452734\n"
     ]
    },
    {
     "name": "stderr",
     "output_type": "stream",
     "text": [
      "  0%|          | 47/278416 [01:43<144:28:12,  1.87s/it]"
     ]
    },
    {
     "name": "stdout",
     "output_type": "stream",
     "text": [
      "torch.Size([1, 253, 13]) torch.Size([1, 253, 13]) torch.Size([1, 253])\n",
      "torch.Size([253, 13, 15])\n",
      "torch.Size([3289, 15]) torch.Size([3289])\n",
      "97.19582953278605\n"
     ]
    },
    {
     "name": "stderr",
     "output_type": "stream",
     "text": [
      "  0%|          | 48/278416 [01:45<147:09:14,  1.90s/it]"
     ]
    },
    {
     "name": "stdout",
     "output_type": "stream",
     "text": [
      "torch.Size([1, 253, 13]) torch.Size([1, 253, 13]) torch.Size([1, 253])\n",
      "torch.Size([253, 13, 15])\n",
      "torch.Size([3289, 15]) torch.Size([3289])\n",
      "97.24312954126619\n"
     ]
    },
    {
     "name": "stderr",
     "output_type": "stream",
     "text": [
      "  0%|          | 49/278416 [01:47<150:21:31,  1.94s/it]"
     ]
    },
    {
     "name": "stdout",
     "output_type": "stream",
     "text": [
      "torch.Size([1, 253, 13]) torch.Size([1, 253, 13]) torch.Size([1, 253])\n",
      "torch.Size([253, 13, 15])\n",
      "torch.Size([3289, 15]) torch.Size([3289])\n",
      "97.28853754940711\n"
     ]
    },
    {
     "name": "stderr",
     "output_type": "stream",
     "text": [
      "  0%|          | 50/278416 [01:49<158:50:21,  2.05s/it]"
     ]
    },
    {
     "name": "stdout",
     "output_type": "stream",
     "text": [
      "torch.Size([1, 253, 13]) torch.Size([1, 253, 13]) torch.Size([1, 253])\n",
      "torch.Size([253, 13, 15])\n",
      "torch.Size([3289, 15]) torch.Size([3289])\n",
      "97.32262622288198\n"
     ]
    },
    {
     "name": "stderr",
     "output_type": "stream",
     "text": [
      "  0%|          | 51/278416 [01:52<166:31:10,  2.15s/it]"
     ]
    },
    {
     "name": "stdout",
     "output_type": "stream",
     "text": [
      "torch.Size([1, 253, 13]) torch.Size([1, 253, 13]) torch.Size([1, 253])\n",
      "torch.Size([253, 13, 15])\n",
      "torch.Size([3289, 15]) torch.Size([3289])\n",
      "97.3682671843207\n"
     ]
    },
    {
     "name": "stderr",
     "output_type": "stream",
     "text": [
      "  0%|          | 52/278416 [01:54<165:53:39,  2.15s/it]"
     ]
    },
    {
     "name": "stdout",
     "output_type": "stream",
     "text": [
      "torch.Size([1, 253, 13]) torch.Size([1, 253, 13]) torch.Size([1, 253])\n",
      "torch.Size([253, 13, 15])\n",
      "torch.Size([3289, 15]) torch.Size([3289])\n",
      "97.40874384024507\n"
     ]
    },
    {
     "name": "stderr",
     "output_type": "stream",
     "text": [
      "  0%|          | 53/278416 [01:56<167:19:19,  2.16s/it]"
     ]
    },
    {
     "name": "stdout",
     "output_type": "stream",
     "text": [
      "torch.Size([1, 253, 13]) torch.Size([1, 253, 13]) torch.Size([1, 253])\n",
      "torch.Size([253, 13, 15])\n",
      "torch.Size([3289, 15]) torch.Size([3289])\n",
      "97.44715831672353\n"
     ]
    },
    {
     "name": "stderr",
     "output_type": "stream",
     "text": [
      "  0%|          | 54/278416 [01:59<180:30:30,  2.33s/it]"
     ]
    },
    {
     "name": "stdout",
     "output_type": "stream",
     "text": [
      "torch.Size([1, 253, 13]) torch.Size([1, 253, 13]) torch.Size([1, 253])\n",
      "torch.Size([253, 13, 15])\n",
      "torch.Size([3289, 15]) torch.Size([3289])\n",
      "97.48141186876364\n"
     ]
    },
    {
     "name": "stderr",
     "output_type": "stream",
     "text": [
      "  0%|          | 55/278416 [02:01<176:35:26,  2.28s/it]"
     ]
    },
    {
     "name": "stdout",
     "output_type": "stream",
     "text": [
      "torch.Size([1, 253, 13]) torch.Size([1, 253, 13]) torch.Size([1, 253])\n",
      "torch.Size([253, 13, 15])\n",
      "torch.Size([3289, 15]) torch.Size([3289])\n",
      "97.52312904486817\n"
     ]
    },
    {
     "name": "stderr",
     "output_type": "stream",
     "text": [
      "  0%|          | 56/278416 [02:03<165:54:44,  2.15s/it]"
     ]
    },
    {
     "name": "stdout",
     "output_type": "stream",
     "text": [
      "torch.Size([1, 253, 13]) torch.Size([1, 253, 13]) torch.Size([1, 253])\n",
      "torch.Size([253, 13, 15])\n",
      "torch.Size([3289, 15]) torch.Size([3289])\n",
      "97.5655161009852\n"
     ]
    },
    {
     "name": "stderr",
     "output_type": "stream",
     "text": [
      "  0%|          | 57/278416 [02:05<165:32:20,  2.14s/it]"
     ]
    },
    {
     "name": "stdout",
     "output_type": "stream",
     "text": [
      "torch.Size([1, 253, 13]) torch.Size([1, 253, 13]) torch.Size([1, 253])\n",
      "torch.Size([253, 13, 15])\n",
      "torch.Size([3289, 15]) torch.Size([3289])\n",
      "97.60119940029985\n"
     ]
    },
    {
     "name": "stderr",
     "output_type": "stream",
     "text": [
      "  0%|          | 58/278416 [02:07<159:00:33,  2.06s/it]"
     ]
    },
    {
     "name": "stdout",
     "output_type": "stream",
     "text": [
      "torch.Size([1, 253, 13]) torch.Size([1, 253, 13]) torch.Size([1, 253])\n",
      "torch.Size([253, 13, 15])\n",
      "torch.Size([3289, 15]) torch.Size([3289])\n",
      "97.63670375313706\n"
     ]
    },
    {
     "name": "stderr",
     "output_type": "stream",
     "text": [
      "  0%|          | 59/278416 [02:09<156:00:36,  2.02s/it]"
     ]
    },
    {
     "name": "stdout",
     "output_type": "stream",
     "text": [
      "torch.Size([1, 253, 13]) torch.Size([1, 253, 13]) torch.Size([1, 253])\n",
      "torch.Size([253, 13, 15])\n",
      "torch.Size([3289, 15]) torch.Size([3289])\n",
      "97.67609202391812\n"
     ]
    },
    {
     "name": "stderr",
     "output_type": "stream",
     "text": [
      "  0%|          | 60/278416 [02:11<156:59:26,  2.03s/it]"
     ]
    },
    {
     "name": "stdout",
     "output_type": "stream",
     "text": [
      "torch.Size([1, 253, 13]) torch.Size([1, 253, 13]) torch.Size([1, 253])\n",
      "torch.Size([253, 13, 15])\n",
      "torch.Size([3289, 15]) torch.Size([3289])\n",
      "97.69425157878472\n"
     ]
    },
    {
     "name": "stderr",
     "output_type": "stream",
     "text": [
      "  0%|          | 61/278416 [02:12<151:45:03,  1.96s/it]"
     ]
    },
    {
     "name": "stdout",
     "output_type": "stream",
     "text": [
      "torch.Size([1, 253, 13]) torch.Size([1, 253, 13]) torch.Size([1, 253])\n",
      "torch.Size([253, 13, 15])\n",
      "torch.Size([3289, 15]) torch.Size([3289])\n",
      "97.72506595788504\n"
     ]
    },
    {
     "name": "stderr",
     "output_type": "stream",
     "text": [
      "  0%|          | 62/278416 [02:14<145:13:04,  1.88s/it]"
     ]
    },
    {
     "name": "stdout",
     "output_type": "stream",
     "text": [
      "torch.Size([1, 253, 13]) torch.Size([1, 253, 13]) torch.Size([1, 253])\n",
      "torch.Size([253, 13, 15])\n",
      "torch.Size([3289, 15]) torch.Size([3289])\n",
      "97.75924558533254\n"
     ]
    },
    {
     "name": "stderr",
     "output_type": "stream",
     "text": [
      "  0%|          | 63/278416 [02:16<144:44:04,  1.87s/it]"
     ]
    },
    {
     "name": "stdout",
     "output_type": "stream",
     "text": [
      "torch.Size([1, 253, 13]) torch.Size([1, 253, 13]) torch.Size([1, 253])\n",
      "torch.Size([253, 13, 15])\n",
      "torch.Size([3289, 15]) torch.Size([3289])\n",
      "97.79283216783217\n"
     ]
    },
    {
     "name": "stderr",
     "output_type": "stream",
     "text": [
      "  0%|          | 64/278416 [02:18<144:16:02,  1.87s/it]"
     ]
    },
    {
     "name": "stdout",
     "output_type": "stream",
     "text": [
      "torch.Size([1, 253, 13]) torch.Size([1, 253, 13]) torch.Size([1, 253])\n",
      "torch.Size([253, 13, 15])\n",
      "torch.Size([3289, 15]) torch.Size([3289])\n",
      "97.81836892204785\n"
     ]
    },
    {
     "name": "stderr",
     "output_type": "stream",
     "text": [
      "  0%|          | 65/278416 [02:20<142:08:38,  1.84s/it]"
     ]
    },
    {
     "name": "stdout",
     "output_type": "stream",
     "text": [
      "torch.Size([1, 253, 13]) torch.Size([1, 253, 13]) torch.Size([1, 253])\n",
      "torch.Size([253, 13, 15])\n",
      "torch.Size([3289, 15]) torch.Size([3289])\n",
      "97.84221049043184\n"
     ]
    },
    {
     "name": "stderr",
     "output_type": "stream",
     "text": [
      "  0%|          | 66/278416 [02:22<148:54:06,  1.93s/it]"
     ]
    },
    {
     "name": "stdout",
     "output_type": "stream",
     "text": [
      "torch.Size([1, 253, 13]) torch.Size([1, 253, 13]) torch.Size([1, 253])\n",
      "torch.Size([253, 13, 15])\n",
      "torch.Size([3289, 15]) torch.Size([3289])\n",
      "97.86534037020733\n"
     ]
    },
    {
     "name": "stderr",
     "output_type": "stream",
     "text": [
      "  0%|          | 67/278416 [02:24<153:08:20,  1.98s/it]"
     ]
    },
    {
     "name": "stdout",
     "output_type": "stream",
     "text": [
      "torch.Size([1, 253, 13]) torch.Size([1, 253, 13]) torch.Size([1, 253])\n",
      "torch.Size([253, 13, 15])\n",
      "torch.Size([3289, 15]) torch.Size([3289])\n",
      "97.8958381771681\n"
     ]
    },
    {
     "name": "stderr",
     "output_type": "stream",
     "text": [
      "  0%|          | 68/278416 [02:26<154:59:20,  2.00s/it]"
     ]
    },
    {
     "name": "stdout",
     "output_type": "stream",
     "text": [
      "torch.Size([1, 253, 13]) torch.Size([1, 253, 13]) torch.Size([1, 253])\n",
      "torch.Size([253, 13, 15])\n",
      "torch.Size([3289, 15]) torch.Size([3289])\n",
      "97.91928298544556\n"
     ]
    },
    {
     "name": "stderr",
     "output_type": "stream",
     "text": [
      "  0%|          | 69/278416 [02:29<173:12:45,  2.24s/it]"
     ]
    },
    {
     "name": "stdout",
     "output_type": "stream",
     "text": [
      "torch.Size([1, 253, 13]) torch.Size([1, 253, 13]) torch.Size([1, 253])\n",
      "torch.Size([253, 13, 15])\n",
      "torch.Size([3289, 15]) torch.Size([3289])\n",
      "97.94596707640186\n"
     ]
    },
    {
     "name": "stderr",
     "output_type": "stream",
     "text": [
      "  0%|          | 70/278416 [02:32<190:28:31,  2.46s/it]"
     ]
    },
    {
     "name": "stdout",
     "output_type": "stream",
     "text": [
      "torch.Size([1, 253, 13]) torch.Size([1, 253, 13]) torch.Size([1, 253])\n",
      "torch.Size([253, 13, 15])\n",
      "torch.Size([3289, 15]) torch.Size([3289])\n",
      "97.96847365738977\n"
     ]
    },
    {
     "name": "stderr",
     "output_type": "stream",
     "text": [
      "  0%|          | 71/278416 [02:34<192:34:03,  2.49s/it]"
     ]
    },
    {
     "name": "stdout",
     "output_type": "stream",
     "text": [
      "torch.Size([1, 253, 13]) torch.Size([1, 253, 13]) torch.Size([1, 253])\n",
      "torch.Size([253, 13, 15])\n",
      "torch.Size([3289, 15]) torch.Size([3289])\n",
      "97.98655450829364\n"
     ]
    },
    {
     "name": "stderr",
     "output_type": "stream",
     "text": [
      "  0%|          | 72/278416 [02:37<187:22:34,  2.42s/it]"
     ]
    },
    {
     "name": "stdout",
     "output_type": "stream",
     "text": [
      "torch.Size([1, 253, 13]) torch.Size([1, 253, 13]) torch.Size([1, 253])\n",
      "torch.Size([253, 13, 15])\n",
      "torch.Size([3289, 15]) torch.Size([3289])\n",
      "97.99955851176816\n"
     ]
    },
    {
     "name": "stderr",
     "output_type": "stream",
     "text": [
      "  0%|          | 73/278416 [02:39<186:49:41,  2.42s/it]"
     ]
    },
    {
     "name": "stdout",
     "output_type": "stream",
     "text": [
      "torch.Size([1, 253, 13]) torch.Size([1, 253, 13]) torch.Size([1, 253])\n",
      "torch.Size([253, 13, 15])\n",
      "torch.Size([3289, 15]) torch.Size([3289])\n",
      "98.0224828050915\n"
     ]
    },
    {
     "name": "stderr",
     "output_type": "stream",
     "text": [
      "  0%|          | 74/278416 [02:41<184:31:20,  2.39s/it]"
     ]
    },
    {
     "name": "stdout",
     "output_type": "stream",
     "text": [
      "torch.Size([1, 253, 13]) torch.Size([1, 253, 13]) torch.Size([1, 253])\n",
      "torch.Size([253, 13, 15])\n",
      "torch.Size([3289, 15]) torch.Size([3289])\n",
      "98.0476335258944\n"
     ]
    },
    {
     "name": "stderr",
     "output_type": "stream",
     "text": [
      "  0%|          | 75/278416 [02:44<182:57:54,  2.37s/it]"
     ]
    },
    {
     "name": "stdout",
     "output_type": "stream",
     "text": [
      "torch.Size([1, 253, 13]) torch.Size([1, 253, 13]) torch.Size([1, 253])\n",
      "torch.Size([253, 13, 15])\n",
      "torch.Size([3289, 15]) torch.Size([3289])\n",
      "98.07172232801524\n"
     ]
    },
    {
     "name": "stderr",
     "output_type": "stream",
     "text": [
      "  0%|          | 76/278416 [02:47<205:55:28,  2.66s/it]"
     ]
    },
    {
     "name": "stdout",
     "output_type": "stream",
     "text": [
      "torch.Size([1, 253, 13]) torch.Size([1, 253, 13]) torch.Size([1, 253])\n",
      "torch.Size([253, 13, 15])\n",
      "torch.Size([3289, 15]) torch.Size([3289])\n",
      "98.09479058490916\n"
     ]
    },
    {
     "name": "stderr",
     "output_type": "stream",
     "text": [
      "  0%|          | 77/278416 [02:51<231:26:34,  2.99s/it]"
     ]
    },
    {
     "name": "stdout",
     "output_type": "stream",
     "text": [
      "torch.Size([1, 253, 13]) torch.Size([1, 253, 13]) torch.Size([1, 253])\n",
      "torch.Size([253, 13, 15])\n",
      "torch.Size([3289, 15]) torch.Size([3289])\n",
      "98.10947135361852\n"
     ]
    },
    {
     "name": "stderr",
     "output_type": "stream",
     "text": [
      "  0%|          | 78/278416 [02:53<209:44:50,  2.71s/it]"
     ]
    },
    {
     "name": "stdout",
     "output_type": "stream",
     "text": [
      "torch.Size([1, 253, 13]) torch.Size([1, 253, 13]) torch.Size([1, 253])\n",
      "torch.Size([253, 13, 15])\n",
      "torch.Size([3289, 15]) torch.Size([3289])\n",
      "98.12762911276945\n"
     ]
    },
    {
     "name": "stderr",
     "output_type": "stream",
     "text": [
      "  0%|          | 79/278416 [02:55<198:00:37,  2.56s/it]"
     ]
    },
    {
     "name": "stdout",
     "output_type": "stream",
     "text": [
      "torch.Size([1, 253, 13]) torch.Size([1, 253, 13]) torch.Size([1, 253])\n",
      "torch.Size([253, 13, 15])\n",
      "torch.Size([3289, 15]) torch.Size([3289])\n",
      "98.14989358467619\n"
     ]
    },
    {
     "name": "stderr",
     "output_type": "stream",
     "text": [
      "  0%|          | 80/278416 [02:57<193:01:34,  2.50s/it]"
     ]
    },
    {
     "name": "stdout",
     "output_type": "stream",
     "text": [
      "torch.Size([1, 253, 13]) torch.Size([1, 253, 13]) torch.Size([1, 253])\n",
      "torch.Size([253, 13, 15])\n",
      "torch.Size([3289, 15]) torch.Size([3289])\n",
      "98.17160831653585\n"
     ]
    },
    {
     "name": "stderr",
     "output_type": "stream",
     "text": [
      "  0%|          | 81/278416 [03:00<194:43:48,  2.52s/it]"
     ]
    },
    {
     "name": "stdout",
     "output_type": "stream",
     "text": [
      "torch.Size([1, 253, 13]) torch.Size([1, 253, 13]) torch.Size([1, 253])\n",
      "torch.Size([253, 13, 15])\n",
      "torch.Size([3289, 15]) torch.Size([3289])\n",
      "98.1861192889825\n"
     ]
    },
    {
     "name": "stderr",
     "output_type": "stream",
     "text": [
      "  0%|          | 82/278416 [03:02<196:59:02,  2.55s/it]"
     ]
    },
    {
     "name": "stdout",
     "output_type": "stream",
     "text": [
      "torch.Size([1, 253, 13]) torch.Size([1, 253, 13]) torch.Size([1, 253])\n",
      "torch.Size([253, 13, 15])\n",
      "torch.Size([3289, 15]) torch.Size([3289])\n",
      "98.20467641316253\n"
     ]
    },
    {
     "name": "stderr",
     "output_type": "stream",
     "text": [
      "  0%|          | 83/278416 [03:05<196:42:12,  2.54s/it]"
     ]
    },
    {
     "name": "stdout",
     "output_type": "stream",
     "text": [
      "torch.Size([1, 253, 13]) torch.Size([1, 253, 13]) torch.Size([1, 253])\n",
      "torch.Size([253, 13, 15])\n",
      "torch.Size([3289, 15]) torch.Size([3289])\n",
      "98.21446669272757\n"
     ]
    },
    {
     "name": "stderr",
     "output_type": "stream",
     "text": [
      "  0%|          | 84/278416 [03:08<210:58:56,  2.73s/it]"
     ]
    },
    {
     "name": "stdout",
     "output_type": "stream",
     "text": [
      "torch.Size([1, 253, 13]) torch.Size([1, 253, 13]) torch.Size([1, 253])\n",
      "torch.Size([253, 13, 15])\n",
      "torch.Size([3289, 15]) torch.Size([3289])\n",
      "98.23296907695885\n"
     ]
    },
    {
     "name": "stderr",
     "output_type": "stream",
     "text": [
      "  0%|          | 85/278416 [03:10<187:10:23,  2.42s/it]"
     ]
    },
    {
     "name": "stdout",
     "output_type": "stream",
     "text": [
      "torch.Size([1, 253, 13]) torch.Size([1, 253, 13]) torch.Size([1, 253])\n",
      "torch.Size([253, 13, 15])\n",
      "torch.Size([3289, 15]) torch.Size([3289])\n",
      "98.24962701605776\n"
     ]
    },
    {
     "name": "stderr",
     "output_type": "stream",
     "text": [
      "  0%|          | 86/278416 [03:11<168:36:02,  2.18s/it]"
     ]
    },
    {
     "name": "stdout",
     "output_type": "stream",
     "text": [
      "torch.Size([1, 253, 13]) torch.Size([1, 253, 13]) torch.Size([1, 253])\n",
      "torch.Size([253, 13, 15])\n",
      "torch.Size([3289, 15]) torch.Size([3289])\n",
      "98.26520306280426\n"
     ]
    },
    {
     "name": "stderr",
     "output_type": "stream",
     "text": [
      "  0%|          | 87/278416 [03:13<158:17:46,  2.05s/it]"
     ]
    },
    {
     "name": "stdout",
     "output_type": "stream",
     "text": [
      "torch.Size([1, 253, 13]) torch.Size([1, 253, 13]) torch.Size([1, 253])\n",
      "torch.Size([253, 13, 15])\n",
      "torch.Size([3289, 15]) torch.Size([3289])\n",
      "98.25934934630587\n"
     ]
    },
    {
     "name": "stderr",
     "output_type": "stream",
     "text": [
      "  0%|          | 88/278416 [03:15<152:16:01,  1.97s/it]"
     ]
    },
    {
     "name": "stdout",
     "output_type": "stream",
     "text": [
      "torch.Size([1, 253, 13]) torch.Size([1, 253, 13]) torch.Size([1, 253])\n",
      "torch.Size([253, 13, 15])\n",
      "torch.Size([3289, 15]) torch.Size([3289])\n",
      "98.27856559659197\n"
     ]
    },
    {
     "name": "stderr",
     "output_type": "stream",
     "text": [
      "  0%|          | 89/278416 [03:17<152:30:16,  1.97s/it]"
     ]
    },
    {
     "name": "stdout",
     "output_type": "stream",
     "text": [
      "torch.Size([1, 253, 13]) torch.Size([1, 253, 13]) torch.Size([1, 253])\n",
      "torch.Size([253, 13, 15])\n",
      "torch.Size([3289, 15]) torch.Size([3289])\n",
      "98.29667916624439\n"
     ]
    },
    {
     "name": "stderr",
     "output_type": "stream",
     "text": [
      "  0%|          | 90/278416 [03:19<144:58:49,  1.88s/it]"
     ]
    },
    {
     "name": "stdout",
     "output_type": "stream",
     "text": [
      "torch.Size([1, 253, 13]) torch.Size([1, 253, 13]) torch.Size([1, 253])\n",
      "torch.Size([253, 13, 15])\n",
      "torch.Size([3289, 15]) torch.Size([3289])\n",
      "98.31272406523243\n"
     ]
    },
    {
     "name": "stderr",
     "output_type": "stream",
     "text": [
      "  0%|          | 91/278416 [03:21<155:16:27,  2.01s/it]"
     ]
    },
    {
     "name": "stdout",
     "output_type": "stream",
     "text": [
      "torch.Size([1, 253, 13]) torch.Size([1, 253, 13]) torch.Size([1, 253])\n",
      "torch.Size([253, 13, 15])\n",
      "torch.Size([3289, 15]) torch.Size([3289])\n",
      "98.32808967969649\n"
     ]
    },
    {
     "name": "stderr",
     "output_type": "stream",
     "text": [
      "  0%|          | 92/278416 [03:23<167:01:34,  2.16s/it]"
     ]
    },
    {
     "name": "stdout",
     "output_type": "stream",
     "text": [
      "torch.Size([1, 253, 13]) torch.Size([1, 253, 13]) torch.Size([1, 253])\n",
      "torch.Size([253, 13, 15])\n",
      "torch.Size([3289, 15]) torch.Size([3289])\n",
      "98.34443256603144\n"
     ]
    },
    {
     "name": "stderr",
     "output_type": "stream",
     "text": [
      "  0%|          | 93/278416 [03:26<171:44:00,  2.22s/it]"
     ]
    },
    {
     "name": "stdout",
     "output_type": "stream",
     "text": [
      "torch.Size([1, 253, 13]) torch.Size([1, 253, 13]) torch.Size([1, 253])\n",
      "torch.Size([253, 13, 15])\n",
      "torch.Size([3289, 15]) torch.Size([3289])\n",
      "98.36010428054831\n"
     ]
    },
    {
     "name": "stderr",
     "output_type": "stream",
     "text": [
      "  0%|          | 94/278416 [03:28<162:52:05,  2.11s/it]"
     ]
    },
    {
     "name": "stdout",
     "output_type": "stream",
     "text": [
      "torch.Size([1, 253, 13]) torch.Size([1, 253, 13]) torch.Size([1, 253])\n",
      "torch.Size([253, 13, 15])\n",
      "torch.Size([3289, 15]) torch.Size([3289])\n",
      "98.37512601814662\n"
     ]
    },
    {
     "name": "stderr",
     "output_type": "stream",
     "text": [
      "  0%|          | 95/278416 [03:30<161:12:56,  2.09s/it]"
     ]
    },
    {
     "name": "stdout",
     "output_type": "stream",
     "text": [
      "torch.Size([1, 253, 13]) torch.Size([1, 253, 13]) torch.Size([1, 253])\n",
      "torch.Size([253, 13, 15])\n",
      "torch.Size([3289, 15]) torch.Size([3289])\n",
      "98.39078493969798\n"
     ]
    },
    {
     "name": "stderr",
     "output_type": "stream",
     "text": [
      "  0%|          | 96/278416 [03:32<156:05:16,  2.02s/it]"
     ]
    },
    {
     "name": "stdout",
     "output_type": "stream",
     "text": [
      "torch.Size([1, 253, 13]) torch.Size([1, 253, 13]) torch.Size([1, 253])\n",
      "torch.Size([253, 13, 15])\n",
      "torch.Size([3289, 15]) torch.Size([3289])\n",
      "98.40612099688747\n"
     ]
    },
    {
     "name": "stderr",
     "output_type": "stream",
     "text": [
      "  0%|          | 97/278416 [03:33<147:52:55,  1.91s/it]"
     ]
    },
    {
     "name": "stdout",
     "output_type": "stream",
     "text": [
      "torch.Size([1, 253, 13]) torch.Size([1, 253, 13]) torch.Size([1, 253])\n",
      "torch.Size([253, 13, 15])\n",
      "torch.Size([3289, 15]) torch.Size([3289])\n",
      "98.42052357580307\n"
     ]
    },
    {
     "name": "stderr",
     "output_type": "stream",
     "text": [
      "  0%|          | 98/278416 [03:35<148:22:07,  1.92s/it]"
     ]
    },
    {
     "name": "stdout",
     "output_type": "stream",
     "text": [
      "torch.Size([1, 253, 13]) torch.Size([1, 253, 13]) torch.Size([1, 253])\n",
      "torch.Size([253, 13, 15])\n",
      "torch.Size([3289, 15]) torch.Size([3289])\n",
      "98.43002846955416\n"
     ]
    },
    {
     "name": "stderr",
     "output_type": "stream",
     "text": [
      "  0%|          | 99/278416 [03:37<145:51:40,  1.89s/it]"
     ]
    },
    {
     "name": "stdout",
     "output_type": "stream",
     "text": [
      "torch.Size([1, 253, 13]) torch.Size([1, 253, 13]) torch.Size([1, 253])\n",
      "torch.Size([253, 13, 15])\n",
      "torch.Size([3289, 15]) torch.Size([3289])\n",
      "98.44268774703558\n"
     ]
    },
    {
     "name": "stderr",
     "output_type": "stream",
     "text": [
      "  0%|          | 100/278416 [03:39<143:00:14,  1.85s/it]"
     ]
    },
    {
     "name": "stdout",
     "output_type": "stream",
     "text": [
      "torch.Size([1, 253, 13]) torch.Size([1, 253, 13]) torch.Size([1, 253])\n",
      "torch.Size([253, 13, 15])\n",
      "torch.Size([3289, 15]) torch.Size([3289])\n",
      "98.45599944609846\n"
     ]
    },
    {
     "name": "stderr",
     "output_type": "stream",
     "text": [
      "  0%|          | 101/278416 [03:41<144:22:18,  1.87s/it]"
     ]
    },
    {
     "name": "stdout",
     "output_type": "stream",
     "text": [
      "torch.Size([1, 253, 13]) torch.Size([1, 253, 13]) torch.Size([1, 253])\n",
      "torch.Size([253, 13, 15])\n",
      "torch.Size([3289, 15]) torch.Size([3289])\n",
      "98.46726163861713\n"
     ]
    },
    {
     "name": "stderr",
     "output_type": "stream",
     "text": [
      "  0%|          | 102/278416 [03:42<143:09:00,  1.85s/it]"
     ]
    },
    {
     "name": "stdout",
     "output_type": "stream",
     "text": [
      "torch.Size([1, 253, 13]) torch.Size([1, 253, 13]) torch.Size([1, 253])\n",
      "torch.Size([253, 13, 15])\n",
      "torch.Size([3289, 15]) torch.Size([3289])\n",
      "98.47889552406227\n"
     ]
    },
    {
     "name": "stderr",
     "output_type": "stream",
     "text": [
      "  0%|          | 103/278416 [03:44<143:24:46,  1.86s/it]"
     ]
    },
    {
     "name": "stdout",
     "output_type": "stream",
     "text": [
      "torch.Size([1, 253, 13]) torch.Size([1, 253, 13]) torch.Size([1, 253])\n",
      "torch.Size([253, 13, 15])\n",
      "torch.Size([3289, 15]) torch.Size([3289])\n",
      "98.47685759056996\n"
     ]
    },
    {
     "name": "stderr",
     "output_type": "stream",
     "text": [
      "  0%|          | 104/278416 [03:47<160:03:37,  2.07s/it]"
     ]
    },
    {
     "name": "stdout",
     "output_type": "stream",
     "text": [
      "torch.Size([1, 253, 13]) torch.Size([1, 253, 13]) torch.Size([1, 253])\n",
      "torch.Size([253, 13, 15])\n",
      "torch.Size([3289, 15]) torch.Size([3289])\n",
      "98.48846805368545\n"
     ]
    },
    {
     "name": "stderr",
     "output_type": "stream",
     "text": [
      "  0%|          | 105/278416 [03:49<156:29:06,  2.02s/it]"
     ]
    },
    {
     "name": "stdout",
     "output_type": "stream",
     "text": [
      "torch.Size([1, 253, 13]) torch.Size([1, 253, 13]) torch.Size([1, 253])\n",
      "torch.Size([253, 13, 15])\n",
      "torch.Size([3289, 15]) torch.Size([3289])\n",
      "98.50129362024357\n"
     ]
    },
    {
     "name": "stderr",
     "output_type": "stream",
     "text": [
      "  0%|          | 106/278416 [03:51<154:12:04,  1.99s/it]"
     ]
    },
    {
     "name": "stdout",
     "output_type": "stream",
     "text": [
      "torch.Size([1, 253, 13]) torch.Size([1, 253, 13]) torch.Size([1, 253])\n",
      "torch.Size([253, 13, 15])\n",
      "torch.Size([3289, 15]) torch.Size([3289])\n",
      "98.50279748695027\n"
     ]
    },
    {
     "name": "stderr",
     "output_type": "stream",
     "text": [
      "  0%|          | 107/278416 [03:53<155:22:10,  2.01s/it]"
     ]
    },
    {
     "name": "stdout",
     "output_type": "stream",
     "text": [
      "torch.Size([1, 253, 13]) torch.Size([1, 253, 13]) torch.Size([1, 253])\n",
      "torch.Size([253, 13, 15])\n",
      "torch.Size([3289, 15]) torch.Size([3289])\n",
      "98.51328220893438\n"
     ]
    },
    {
     "name": "stderr",
     "output_type": "stream",
     "text": [
      "  0%|          | 108/278416 [03:55<154:30:52,  2.00s/it]"
     ]
    },
    {
     "name": "stdout",
     "output_type": "stream",
     "text": [
      "torch.Size([1, 253, 13]) torch.Size([1, 253, 13]) torch.Size([1, 253])\n",
      "torch.Size([253, 13, 15])\n",
      "torch.Size([3289, 15]) torch.Size([3289])\n",
      "98.51297485920541\n"
     ]
    },
    {
     "name": "stderr",
     "output_type": "stream",
     "text": [
      "  0%|          | 109/278416 [03:57<150:08:36,  1.94s/it]"
     ]
    },
    {
     "name": "stdout",
     "output_type": "stream",
     "text": [
      "torch.Size([1, 253, 13]) torch.Size([1, 253, 13]) torch.Size([1, 253])\n",
      "torch.Size([253, 13, 15])\n",
      "torch.Size([3289, 15]) torch.Size([3289])\n",
      "98.52511125238398\n"
     ]
    },
    {
     "name": "stderr",
     "output_type": "stream",
     "text": [
      "  0%|          | 110/278416 [03:59<158:29:57,  2.05s/it]"
     ]
    },
    {
     "name": "stdout",
     "output_type": "stream",
     "text": [
      "torch.Size([1, 253, 13]) torch.Size([1, 253, 13]) torch.Size([1, 253])\n",
      "torch.Size([253, 13, 15])\n",
      "torch.Size([3289, 15]) torch.Size([3289])\n",
      "98.53812462508115\n"
     ]
    },
    {
     "name": "stderr",
     "output_type": "stream",
     "text": [
      "  0%|          | 111/278416 [04:01<161:29:07,  2.09s/it]"
     ]
    },
    {
     "name": "stdout",
     "output_type": "stream",
     "text": [
      "torch.Size([1, 253, 13]) torch.Size([1, 253, 13]) torch.Size([1, 253])\n",
      "torch.Size([253, 13, 15])\n",
      "torch.Size([3289, 15]) torch.Size([3289])\n",
      "98.54819093949529\n"
     ]
    },
    {
     "name": "stderr",
     "output_type": "stream",
     "text": [
      "  0%|          | 112/278416 [04:03<158:35:08,  2.05s/it]"
     ]
    },
    {
     "name": "stdout",
     "output_type": "stream",
     "text": [
      "torch.Size([1, 253, 13]) torch.Size([1, 253, 13]) torch.Size([1, 253])\n",
      "torch.Size([253, 13, 15])\n",
      "torch.Size([3289, 15]) torch.Size([3289])\n",
      "98.54893086905399\n"
     ]
    },
    {
     "name": "stderr",
     "output_type": "stream",
     "text": [
      "  0%|          | 113/278416 [04:05<159:39:11,  2.07s/it]"
     ]
    },
    {
     "name": "stdout",
     "output_type": "stream",
     "text": [
      "torch.Size([1, 253, 13]) torch.Size([1, 253, 13]) torch.Size([1, 253])\n",
      "torch.Size([253, 13, 15])\n",
      "torch.Size([3289, 15]) torch.Size([3289])\n",
      "98.55339168840312\n"
     ]
    },
    {
     "name": "stderr",
     "output_type": "stream",
     "text": [
      "  0%|          | 114/278416 [04:07<160:42:49,  2.08s/it]"
     ]
    },
    {
     "name": "stdout",
     "output_type": "stream",
     "text": [
      "torch.Size([1, 253, 13]) torch.Size([1, 253, 13]) torch.Size([1, 253])\n",
      "torch.Size([253, 13, 15])\n",
      "torch.Size([3289, 15]) torch.Size([3289])\n",
      "98.56412018982907\n"
     ]
    },
    {
     "name": "stderr",
     "output_type": "stream",
     "text": [
      "  0%|          | 115/278416 [04:09<153:03:23,  1.98s/it]"
     ]
    },
    {
     "name": "stdout",
     "output_type": "stream",
     "text": [
      "torch.Size([1, 253, 13]) torch.Size([1, 253, 13]) torch.Size([1, 253])\n",
      "torch.Size([253, 13, 15])\n",
      "torch.Size([3289, 15]) torch.Size([3289])\n",
      "98.57230475671255\n"
     ]
    },
    {
     "name": "stderr",
     "output_type": "stream",
     "text": [
      "  0%|          | 116/278416 [04:11<146:15:33,  1.89s/it]"
     ]
    },
    {
     "name": "stdout",
     "output_type": "stream",
     "text": [
      "torch.Size([1, 253, 13]) torch.Size([1, 253, 13]) torch.Size([1, 253])\n",
      "torch.Size([253, 13, 15])\n",
      "torch.Size([3289, 15]) torch.Size([3289])\n",
      "98.58138888239223\n"
     ]
    },
    {
     "name": "stderr",
     "output_type": "stream",
     "text": [
      "  0%|          | 117/278416 [04:13<152:19:34,  1.97s/it]"
     ]
    },
    {
     "name": "stdout",
     "output_type": "stream",
     "text": [
      "torch.Size([1, 253, 13]) torch.Size([1, 253, 13]) torch.Size([1, 253])\n",
      "torch.Size([253, 13, 15])\n",
      "torch.Size([3289, 15]) torch.Size([3289])\n",
      "98.58903071872858\n"
     ]
    },
    {
     "name": "stderr",
     "output_type": "stream",
     "text": [
      "  0%|          | 118/278416 [04:15<151:55:36,  1.97s/it]"
     ]
    },
    {
     "name": "stdout",
     "output_type": "stream",
     "text": [
      "torch.Size([1, 253, 13]) torch.Size([1, 253, 13]) torch.Size([1, 253])\n",
      "torch.Size([253, 13, 15])\n",
      "torch.Size([3289, 15]) torch.Size([3289])\n",
      "98.5975661167477\n"
     ]
    },
    {
     "name": "stderr",
     "output_type": "stream",
     "text": [
      "  0%|          | 119/278416 [04:17<152:00:48,  1.97s/it]"
     ]
    },
    {
     "name": "stdout",
     "output_type": "stream",
     "text": [
      "torch.Size([1, 253, 13]) torch.Size([1, 253, 13]) torch.Size([1, 253])\n",
      "torch.Size([253, 13, 15])\n",
      "torch.Size([3289, 15]) torch.Size([3289])\n",
      "98.60621262795176\n"
     ]
    },
    {
     "name": "stderr",
     "output_type": "stream",
     "text": [
      "  0%|          | 120/278416 [04:19<161:34:50,  2.09s/it]"
     ]
    },
    {
     "name": "stdout",
     "output_type": "stream",
     "text": [
      "torch.Size([1, 253, 13]) torch.Size([1, 253, 13]) torch.Size([1, 253])\n",
      "torch.Size([253, 13, 15])\n",
      "torch.Size([3289, 15]) torch.Size([3289])\n",
      "98.6122034630838\n"
     ]
    },
    {
     "name": "stderr",
     "output_type": "stream",
     "text": [
      "  0%|          | 121/278416 [04:21<153:18:44,  1.98s/it]"
     ]
    },
    {
     "name": "stdout",
     "output_type": "stream",
     "text": [
      "torch.Size([1, 253, 13]) torch.Size([1, 253, 13]) torch.Size([1, 253])\n",
      "torch.Size([253, 13, 15])\n",
      "torch.Size([3289, 15]) torch.Size([3289])\n",
      "98.61560392565382\n"
     ]
    },
    {
     "name": "stderr",
     "output_type": "stream",
     "text": [
      "  0%|          | 122/278416 [04:23<157:14:54,  2.03s/it]"
     ]
    },
    {
     "name": "stdout",
     "output_type": "stream",
     "text": [
      "torch.Size([1, 253, 13]) torch.Size([1, 253, 13]) torch.Size([1, 253])\n",
      "torch.Size([253, 13, 15])\n",
      "torch.Size([3289, 15]) torch.Size([3289])\n",
      "98.6221625670194\n"
     ]
    },
    {
     "name": "stderr",
     "output_type": "stream",
     "text": [
      "  0%|          | 123/278416 [04:26<169:05:03,  2.19s/it]"
     ]
    },
    {
     "name": "stdout",
     "output_type": "stream",
     "text": [
      "torch.Size([1, 253, 13]) torch.Size([1, 253, 13]) torch.Size([1, 253])\n",
      "torch.Size([253, 13, 15])\n",
      "torch.Size([3289, 15]) torch.Size([3289])\n",
      "98.60728331976578\n"
     ]
    },
    {
     "name": "stderr",
     "output_type": "stream",
     "text": [
      "  0%|          | 124/278416 [04:28<179:57:00,  2.33s/it]"
     ]
    },
    {
     "name": "stdout",
     "output_type": "stream",
     "text": [
      "torch.Size([1, 253, 13]) torch.Size([1, 253, 13]) torch.Size([1, 253])\n",
      "torch.Size([253, 13, 15])\n",
      "torch.Size([3289, 15]) torch.Size([3289])\n",
      "98.6086956521739\n"
     ]
    },
    {
     "name": "stderr",
     "output_type": "stream",
     "text": [
      "  0%|          | 125/278416 [04:30<168:14:21,  2.18s/it]"
     ]
    },
    {
     "name": "stdout",
     "output_type": "stream",
     "text": [
      "torch.Size([1, 253, 13]) torch.Size([1, 253, 13]) torch.Size([1, 253])\n",
      "torch.Size([253, 13, 15])\n",
      "torch.Size([3289, 15]) torch.Size([3289])\n",
      "98.61804861804862\n"
     ]
    },
    {
     "name": "stderr",
     "output_type": "stream",
     "text": [
      "  0%|          | 126/278416 [04:32<162:51:08,  2.11s/it]"
     ]
    },
    {
     "name": "stdout",
     "output_type": "stream",
     "text": [
      "torch.Size([1, 253, 13]) torch.Size([1, 253, 13]) torch.Size([1, 253])\n",
      "torch.Size([253, 13, 15])\n",
      "torch.Size([3289, 15]) torch.Size([3289])\n",
      "98.62869072044012\n"
     ]
    },
    {
     "name": "stderr",
     "output_type": "stream",
     "text": [
      "  0%|          | 127/278416 [04:34<152:07:29,  1.97s/it]"
     ]
    },
    {
     "name": "stdout",
     "output_type": "stream",
     "text": [
      "torch.Size([1, 253, 13]) torch.Size([1, 253, 13]) torch.Size([1, 253])\n",
      "torch.Size([253, 13, 15])\n",
      "torch.Size([3289, 15]) torch.Size([3289])\n",
      "98.63821640316206\n"
     ]
    },
    {
     "name": "stderr",
     "output_type": "stream",
     "text": [
      "  0%|          | 128/278416 [04:35<144:21:46,  1.87s/it]"
     ]
    },
    {
     "name": "stdout",
     "output_type": "stream",
     "text": [
      "torch.Size([1, 253, 13]) torch.Size([1, 253, 13]) torch.Size([1, 253])\n",
      "torch.Size([253, 13, 15])\n",
      "torch.Size([3289, 15]) torch.Size([3289])\n",
      "98.64806578658954\n"
     ]
    },
    {
     "name": "stderr",
     "output_type": "stream",
     "text": [
      "  0%|          | 129/278416 [04:37<148:22:29,  1.92s/it]"
     ]
    },
    {
     "name": "stdout",
     "output_type": "stream",
     "text": [
      "torch.Size([1, 253, 13]) torch.Size([1, 253, 13]) torch.Size([1, 253])\n",
      "torch.Size([253, 13, 15])\n",
      "torch.Size([3289, 15]) torch.Size([3289])\n",
      "98.65776364104123\n"
     ]
    },
    {
     "name": "stderr",
     "output_type": "stream",
     "text": [
      "  0%|          | 130/278416 [04:39<145:08:57,  1.88s/it]"
     ]
    },
    {
     "name": "stdout",
     "output_type": "stream",
     "text": [
      "torch.Size([1, 253, 13]) torch.Size([1, 253, 13]) torch.Size([1, 253])\n",
      "torch.Size([253, 13, 15])\n",
      "torch.Size([3289, 15]) torch.Size([3289])\n",
      "98.66731343664632\n"
     ]
    },
    {
     "name": "stderr",
     "output_type": "stream",
     "text": [
      "  0%|          | 131/278416 [04:42<165:59:17,  2.15s/it]"
     ]
    },
    {
     "name": "stdout",
     "output_type": "stream",
     "text": [
      "torch.Size([1, 253, 13]) torch.Size([1, 253, 13]) torch.Size([1, 253])\n",
      "torch.Size([253, 13, 15])\n",
      "torch.Size([3289, 15]) torch.Size([3289])\n",
      "98.67326349539788\n"
     ]
    },
    {
     "name": "stderr",
     "output_type": "stream",
     "text": [
      "  0%|          | 132/278416 [04:43<154:05:13,  1.99s/it]"
     ]
    },
    {
     "name": "stdout",
     "output_type": "stream",
     "text": [
      "torch.Size([1, 253, 13]) torch.Size([1, 253, 13]) torch.Size([1, 253])\n",
      "torch.Size([253, 13, 15])\n",
      "torch.Size([3289, 15]) torch.Size([3289])\n",
      "98.6825531447957\n"
     ]
    },
    {
     "name": "stderr",
     "output_type": "stream",
     "text": [
      "  0%|          | 133/278416 [04:46<157:31:19,  2.04s/it]"
     ]
    },
    {
     "name": "stdout",
     "output_type": "stream",
     "text": [
      "torch.Size([1, 253, 13]) torch.Size([1, 253, 13]) torch.Size([1, 253])\n",
      "torch.Size([253, 13, 15])\n",
      "torch.Size([3289, 15]) torch.Size([3289])\n",
      "98.69079654932997\n"
     ]
    },
    {
     "name": "stderr",
     "output_type": "stream",
     "text": [
      "  0%|          | 134/278416 [04:48<154:55:38,  2.00s/it]"
     ]
    },
    {
     "name": "stdout",
     "output_type": "stream",
     "text": [
      "torch.Size([1, 253, 13]) torch.Size([1, 253, 13]) torch.Size([1, 253])\n",
      "torch.Size([253, 13, 15])\n",
      "torch.Size([3289, 15]) torch.Size([3289])\n",
      "98.68945868945869\n"
     ]
    },
    {
     "name": "stderr",
     "output_type": "stream",
     "text": [
      "  0%|          | 135/278416 [04:49<145:31:04,  1.88s/it]"
     ]
    },
    {
     "name": "stdout",
     "output_type": "stream",
     "text": [
      "torch.Size([1, 253, 13]) torch.Size([1, 253, 13]) torch.Size([1, 253])\n",
      "torch.Size([253, 13, 15])\n",
      "torch.Size([3289, 15]) torch.Size([3289])\n",
      "98.69484735213635\n"
     ]
    },
    {
     "name": "stderr",
     "output_type": "stream",
     "text": [
      "  0%|          | 136/278416 [04:51<143:55:22,  1.86s/it]"
     ]
    },
    {
     "name": "stdout",
     "output_type": "stream",
     "text": [
      "torch.Size([1, 253, 13]) torch.Size([1, 253, 13]) torch.Size([1, 253])\n",
      "torch.Size([253, 13, 15])\n",
      "torch.Size([3289, 15]) torch.Size([3289])\n",
      "98.70237664588664\n"
     ]
    },
    {
     "name": "stderr",
     "output_type": "stream",
     "text": [
      "  0%|          | 137/278416 [04:53<146:59:18,  1.90s/it]"
     ]
    },
    {
     "name": "stdout",
     "output_type": "stream",
     "text": [
      "torch.Size([1, 253, 13]) torch.Size([1, 253, 13]) torch.Size([1, 253])\n",
      "torch.Size([253, 13, 15])\n",
      "torch.Size([3289, 15]) torch.Size([3289])\n",
      "98.69988234827554\n"
     ]
    },
    {
     "name": "stderr",
     "output_type": "stream",
     "text": [
      "  0%|          | 138/278416 [04:55<158:50:26,  2.05s/it]"
     ]
    },
    {
     "name": "stdout",
     "output_type": "stream",
     "text": [
      "torch.Size([1, 253, 13]) torch.Size([1, 253, 13]) torch.Size([1, 253])\n",
      "torch.Size([253, 13, 15])\n",
      "torch.Size([3289, 15]) torch.Size([3289])\n",
      "98.69917383211096\n"
     ]
    },
    {
     "name": "stderr",
     "output_type": "stream",
     "text": [
      "  0%|          | 139/278416 [04:58<170:49:45,  2.21s/it]"
     ]
    },
    {
     "name": "stdout",
     "output_type": "stream",
     "text": [
      "torch.Size([1, 253, 13]) torch.Size([1, 253, 13]) torch.Size([1, 253])\n",
      "torch.Size([253, 13, 15])\n",
      "torch.Size([3289, 15]) torch.Size([3289])\n",
      "98.70672805455415\n"
     ]
    },
    {
     "name": "stderr",
     "output_type": "stream",
     "text": [
      "  0%|          | 140/278416 [05:00<175:43:59,  2.27s/it]"
     ]
    },
    {
     "name": "stdout",
     "output_type": "stream",
     "text": [
      "torch.Size([1, 253, 13]) torch.Size([1, 253, 13]) torch.Size([1, 253])\n",
      "torch.Size([253, 13, 15])\n",
      "torch.Size([3289, 15]) torch.Size([3289])\n",
      "98.71245005380065\n"
     ]
    },
    {
     "name": "stderr",
     "output_type": "stream",
     "text": [
      "  0%|          | 141/278416 [05:02<159:05:02,  2.06s/it]"
     ]
    },
    {
     "name": "stdout",
     "output_type": "stream",
     "text": [
      "torch.Size([1, 253, 13]) torch.Size([1, 253, 13]) torch.Size([1, 253])\n",
      "torch.Size([253, 13, 15])\n",
      "torch.Size([3289, 15]) torch.Size([3289])\n",
      "98.71916203820675\n"
     ]
    },
    {
     "name": "stderr",
     "output_type": "stream",
     "text": [
      "  0%|          | 142/278416 [05:04<157:44:29,  2.04s/it]"
     ]
    },
    {
     "name": "stdout",
     "output_type": "stream",
     "text": [
      "torch.Size([1, 253, 13]) torch.Size([1, 253, 13]) torch.Size([1, 253])\n",
      "torch.Size([253, 13, 15])\n",
      "torch.Size([3289, 15]) torch.Size([3289])\n",
      "98.72322873235005\n"
     ]
    },
    {
     "name": "stderr",
     "output_type": "stream",
     "text": [
      "  0%|          | 143/278416 [05:06<158:58:55,  2.06s/it]"
     ]
    },
    {
     "name": "stdout",
     "output_type": "stream",
     "text": [
      "torch.Size([1, 253, 13]) torch.Size([1, 253, 13]) torch.Size([1, 253])\n",
      "torch.Size([253, 13, 15])\n",
      "torch.Size([3289, 15]) torch.Size([3289])\n",
      "98.69725684943076\n"
     ]
    },
    {
     "name": "stderr",
     "output_type": "stream",
     "text": [
      "  0%|          | 144/278416 [05:08<165:37:12,  2.14s/it]"
     ]
    },
    {
     "name": "stdout",
     "output_type": "stream",
     "text": [
      "torch.Size([1, 253, 13]) torch.Size([1, 253, 13]) torch.Size([1, 253])\n",
      "torch.Size([253, 13, 15])\n",
      "torch.Size([3289, 15]) torch.Size([3289])\n",
      "98.68275652383599\n"
     ]
    },
    {
     "name": "stderr",
     "output_type": "stream",
     "text": [
      "  0%|          | 145/278416 [05:11<175:40:15,  2.27s/it]"
     ]
    },
    {
     "name": "stdout",
     "output_type": "stream",
     "text": [
      "torch.Size([1, 253, 13]) torch.Size([1, 253, 13]) torch.Size([1, 253])\n",
      "torch.Size([253, 13, 15])\n",
      "torch.Size([3289, 15]) torch.Size([3289])\n",
      "98.68990449693248\n"
     ]
    },
    {
     "name": "stderr",
     "output_type": "stream",
     "text": [
      "  0%|          | 146/278416 [05:13<176:02:05,  2.28s/it]"
     ]
    },
    {
     "name": "stdout",
     "output_type": "stream",
     "text": [
      "torch.Size([1, 253, 13]) torch.Size([1, 253, 13]) torch.Size([1, 253])\n",
      "torch.Size([253, 13, 15])\n",
      "torch.Size([3289, 15]) torch.Size([3289])\n",
      "98.69633472117944\n"
     ]
    },
    {
     "name": "stderr",
     "output_type": "stream",
     "text": [
      "  0%|          | 147/278416 [05:15<172:20:41,  2.23s/it]"
     ]
    },
    {
     "name": "stdout",
     "output_type": "stream",
     "text": [
      "torch.Size([1, 253, 13]) torch.Size([1, 253, 13]) torch.Size([1, 253])\n",
      "torch.Size([253, 13, 15])\n",
      "torch.Size([3289, 15]) torch.Size([3289])\n",
      "98.7034997904563\n"
     ]
    },
    {
     "name": "stderr",
     "output_type": "stream",
     "text": [
      "  0%|          | 148/278416 [05:18<176:15:43,  2.28s/it]"
     ]
    },
    {
     "name": "stdout",
     "output_type": "stream",
     "text": [
      "torch.Size([1, 253, 13]) torch.Size([1, 253, 13]) torch.Size([1, 253])\n",
      "torch.Size([253, 13, 15])\n",
      "torch.Size([3289, 15]) torch.Size([3289])\n",
      "98.70812000954983\n"
     ]
    },
    {
     "name": "stderr",
     "output_type": "stream",
     "text": [
      "  0%|          | 149/278416 [05:20<167:51:17,  2.17s/it]"
     ]
    },
    {
     "name": "stdout",
     "output_type": "stream",
     "text": [
      "torch.Size([1, 253, 13]) torch.Size([1, 253, 13]) torch.Size([1, 253])\n",
      "torch.Size([253, 13, 15])\n",
      "torch.Size([3289, 15]) torch.Size([3289])\n",
      "98.71348940914159\n"
     ]
    },
    {
     "name": "stderr",
     "output_type": "stream",
     "text": [
      "  0%|          | 150/278416 [05:22<162:57:21,  2.11s/it]"
     ]
    },
    {
     "name": "stdout",
     "output_type": "stream",
     "text": [
      "torch.Size([1, 253, 13]) torch.Size([1, 253, 13]) torch.Size([1, 253])\n",
      "torch.Size([253, 13, 15])\n",
      "torch.Size([3289, 15]) torch.Size([3289])\n",
      "98.72059987234188\n"
     ]
    },
    {
     "name": "stderr",
     "output_type": "stream",
     "text": [
      "  0%|          | 151/278416 [05:24<162:37:37,  2.10s/it]"
     ]
    },
    {
     "name": "stdout",
     "output_type": "stream",
     "text": [
      "torch.Size([1, 253, 13]) torch.Size([1, 253, 13]) torch.Size([1, 253])\n",
      "torch.Size([253, 13, 15])\n",
      "torch.Size([3289, 15]) torch.Size([3289])\n",
      "98.70521355075131\n"
     ]
    },
    {
     "name": "stderr",
     "output_type": "stream",
     "text": [
      "  0%|          | 152/278416 [05:26<160:41:33,  2.08s/it]"
     ]
    },
    {
     "name": "stdout",
     "output_type": "stream",
     "text": [
      "torch.Size([1, 253, 13]) torch.Size([1, 253, 13]) torch.Size([1, 253])\n",
      "torch.Size([253, 13, 15])\n",
      "torch.Size([3289, 15]) torch.Size([3289])\n",
      "98.71029794303452\n"
     ]
    },
    {
     "name": "stderr",
     "output_type": "stream",
     "text": [
      "  0%|          | 153/278416 [05:28<159:23:41,  2.06s/it]"
     ]
    },
    {
     "name": "stdout",
     "output_type": "stream",
     "text": [
      "torch.Size([1, 253, 13]) torch.Size([1, 253, 13]) torch.Size([1, 253])\n",
      "torch.Size([253, 13, 15])\n",
      "torch.Size([3289, 15]) torch.Size([3289])\n",
      "98.716106028359\n"
     ]
    },
    {
     "name": "stderr",
     "output_type": "stream",
     "text": [
      "  0%|          | 154/278416 [05:30<160:09:52,  2.07s/it]"
     ]
    },
    {
     "name": "stdout",
     "output_type": "stream",
     "text": [
      "torch.Size([1, 253, 13]) torch.Size([1, 253, 13]) torch.Size([1, 253])\n",
      "torch.Size([253, 13, 15])\n",
      "torch.Size([3289, 15]) torch.Size([3289])\n",
      "98.72203532792594\n"
     ]
    },
    {
     "name": "stderr",
     "output_type": "stream",
     "text": [
      "  0%|          | 155/278416 [05:32<153:27:05,  1.99s/it]"
     ]
    },
    {
     "name": "stdout",
     "output_type": "stream",
     "text": [
      "torch.Size([1, 253, 13]) torch.Size([1, 253, 13]) torch.Size([1, 253])\n",
      "torch.Size([253, 13, 15])\n",
      "torch.Size([3289, 15]) torch.Size([3289])\n",
      "98.72535491264588\n"
     ]
    },
    {
     "name": "stderr",
     "output_type": "stream",
     "text": [
      "  0%|          | 156/278416 [05:34<153:07:23,  1.98s/it]"
     ]
    },
    {
     "name": "stdout",
     "output_type": "stream",
     "text": [
      "torch.Size([1, 253, 13]) torch.Size([1, 253, 13]) torch.Size([1, 253])\n",
      "torch.Size([253, 13, 15])\n",
      "torch.Size([3289, 15]) torch.Size([3289])\n",
      "98.72843855120233\n"
     ]
    },
    {
     "name": "stderr",
     "output_type": "stream",
     "text": [
      "  0%|          | 157/278416 [05:36<157:40:10,  2.04s/it]"
     ]
    },
    {
     "name": "stdout",
     "output_type": "stream",
     "text": [
      "torch.Size([1, 253, 13]) torch.Size([1, 253, 13]) torch.Size([1, 253])\n",
      "torch.Size([253, 13, 15])\n",
      "torch.Size([3289, 15]) torch.Size([3289])\n",
      "98.73456208073709\n"
     ]
    },
    {
     "name": "stderr",
     "output_type": "stream",
     "text": [
      "  0%|          | 158/278416 [05:38<154:51:56,  2.00s/it]"
     ]
    },
    {
     "name": "stdout",
     "output_type": "stream",
     "text": [
      "torch.Size([1, 253, 13]) torch.Size([1, 253, 13]) torch.Size([1, 253])\n",
      "torch.Size([253, 13, 15])\n",
      "torch.Size([3289, 15]) torch.Size([3289])\n",
      "98.73965247222016\n"
     ]
    },
    {
     "name": "stderr",
     "output_type": "stream",
     "text": [
      "  0%|          | 159/278416 [05:40<150:56:26,  1.95s/it]"
     ]
    },
    {
     "name": "stdout",
     "output_type": "stream",
     "text": [
      "torch.Size([1, 253, 13]) torch.Size([1, 253, 13]) torch.Size([1, 253])\n",
      "torch.Size([253, 13, 15])\n",
      "torch.Size([3289, 15]) torch.Size([3289])\n",
      "98.74695956217695\n"
     ]
    },
    {
     "name": "stderr",
     "output_type": "stream",
     "text": [
      "  0%|          | 160/278416 [05:41<149:20:23,  1.93s/it]"
     ]
    },
    {
     "name": "stdout",
     "output_type": "stream",
     "text": [
      "torch.Size([1, 253, 13]) torch.Size([1, 253, 13]) torch.Size([1, 253])\n",
      "torch.Size([253, 13, 15])\n",
      "torch.Size([3289, 15]) torch.Size([3289])\n",
      "98.75455357496945\n"
     ]
    },
    {
     "name": "stderr",
     "output_type": "stream",
     "text": [
      "  0%|          | 161/278416 [05:44<154:40:05,  2.00s/it]"
     ]
    },
    {
     "name": "stdout",
     "output_type": "stream",
     "text": [
      "torch.Size([1, 253, 13]) torch.Size([1, 253, 13]) torch.Size([1, 253])\n",
      "torch.Size([253, 13, 15])\n",
      "torch.Size([3289, 15]) torch.Size([3289])\n",
      "98.76055238374079\n"
     ]
    },
    {
     "name": "stderr",
     "output_type": "stream",
     "text": [
      "  0%|          | 162/278416 [05:46<154:11:39,  1.99s/it]"
     ]
    },
    {
     "name": "stdout",
     "output_type": "stream",
     "text": [
      "torch.Size([1, 253, 13]) torch.Size([1, 253, 13]) torch.Size([1, 253])\n",
      "torch.Size([253, 13, 15])\n",
      "torch.Size([3289, 15]) torch.Size([3289])\n",
      "98.76815635684667\n"
     ]
    },
    {
     "name": "stderr",
     "output_type": "stream",
     "text": [
      "  0%|          | 163/278416 [05:48<156:43:50,  2.03s/it]"
     ]
    },
    {
     "name": "stdout",
     "output_type": "stream",
     "text": [
      "torch.Size([1, 253, 13]) torch.Size([1, 253, 13]) torch.Size([1, 253])\n",
      "torch.Size([253, 13, 15])\n",
      "torch.Size([3289, 15]) torch.Size([3289])\n",
      "98.77529681347285\n"
     ]
    },
    {
     "name": "stderr",
     "output_type": "stream",
     "text": [
      "  0%|          | 164/278416 [05:50<168:21:18,  2.18s/it]"
     ]
    },
    {
     "name": "stdout",
     "output_type": "stream",
     "text": [
      "torch.Size([1, 253, 13]) torch.Size([1, 253, 13]) torch.Size([1, 253])\n",
      "torch.Size([253, 13, 15])\n",
      "torch.Size([3289, 15]) torch.Size([3289])\n",
      "98.779770953684\n"
     ]
    },
    {
     "name": "stderr",
     "output_type": "stream",
     "text": [
      "  0%|          | 165/278416 [05:53<184:10:52,  2.38s/it]"
     ]
    },
    {
     "name": "stdout",
     "output_type": "stream",
     "text": [
      "torch.Size([1, 253, 13]) torch.Size([1, 253, 13]) torch.Size([1, 253])\n",
      "torch.Size([253, 13, 15])\n",
      "torch.Size([3289, 15]) torch.Size([3289])\n",
      "98.7843743474964\n"
     ]
    },
    {
     "name": "stderr",
     "output_type": "stream",
     "text": [
      "  0%|          | 166/278416 [05:55<177:44:42,  2.30s/it]"
     ]
    },
    {
     "name": "stdout",
     "output_type": "stream",
     "text": [
      "torch.Size([1, 253, 13]) torch.Size([1, 253, 13]) torch.Size([1, 253])\n",
      "torch.Size([253, 13, 15])\n",
      "torch.Size([3289, 15]) torch.Size([3289])\n",
      "98.78892261084398\n"
     ]
    },
    {
     "name": "stderr",
     "output_type": "stream",
     "text": [
      "  0%|          | 167/278416 [05:57<178:01:08,  2.30s/it]"
     ]
    },
    {
     "name": "stdout",
     "output_type": "stream",
     "text": [
      "torch.Size([1, 253, 13]) torch.Size([1, 253, 13]) torch.Size([1, 253])\n",
      "torch.Size([253, 13, 15])\n",
      "torch.Size([3289, 15]) torch.Size([3289])\n",
      "98.79359770664118\n"
     ]
    },
    {
     "name": "stderr",
     "output_type": "stream",
     "text": [
      "  0%|          | 168/278416 [06:00<173:00:38,  2.24s/it]"
     ]
    },
    {
     "name": "stdout",
     "output_type": "stream",
     "text": [
      "torch.Size([1, 253, 13]) torch.Size([1, 253, 13]) torch.Size([1, 253])\n",
      "torch.Size([253, 13, 15])\n",
      "torch.Size([3289, 15]) torch.Size([3289])\n",
      "98.79911701367837\n"
     ]
    },
    {
     "name": "stderr",
     "output_type": "stream",
     "text": [
      "  0%|          | 169/278416 [06:02<169:11:27,  2.19s/it]"
     ]
    },
    {
     "name": "stdout",
     "output_type": "stream",
     "text": [
      "torch.Size([1, 253, 13]) torch.Size([1, 253, 13]) torch.Size([1, 253])\n",
      "torch.Size([253, 13, 15])\n",
      "torch.Size([3289, 15]) torch.Size([3289])\n",
      "98.80385599055676\n"
     ]
    },
    {
     "name": "stderr",
     "output_type": "stream",
     "text": [
      "  0%|          | 170/278416 [06:03<156:35:18,  2.03s/it]"
     ]
    },
    {
     "name": "stdout",
     "output_type": "stream",
     "text": [
      "torch.Size([1, 253, 13]) torch.Size([1, 253, 13]) torch.Size([1, 253])\n",
      "torch.Size([253, 13, 15])\n",
      "torch.Size([3289, 15]) torch.Size([3289])\n",
      "98.80942855771231\n"
     ]
    },
    {
     "name": "stderr",
     "output_type": "stream",
     "text": [
      "  0%|          | 171/278416 [06:06<162:21:35,  2.10s/it]"
     ]
    },
    {
     "name": "stdout",
     "output_type": "stream",
     "text": [
      "torch.Size([1, 253, 13]) torch.Size([1, 253, 13]) torch.Size([1, 253])\n",
      "torch.Size([253, 13, 15])\n",
      "torch.Size([3289, 15]) torch.Size([3289])\n",
      "98.81281509188486\n"
     ]
    },
    {
     "name": "stderr",
     "output_type": "stream",
     "text": [
      "  0%|          | 172/278416 [06:08<161:35:08,  2.09s/it]"
     ]
    },
    {
     "name": "stdout",
     "output_type": "stream",
     "text": [
      "torch.Size([1, 253, 13]) torch.Size([1, 253, 13]) torch.Size([1, 253])\n",
      "torch.Size([253, 13, 15])\n",
      "torch.Size([3289, 15]) torch.Size([3289])\n",
      "98.81704121462855\n"
     ]
    },
    {
     "name": "stderr",
     "output_type": "stream",
     "text": [
      "  0%|          | 173/278416 [06:10<156:41:55,  2.03s/it]"
     ]
    },
    {
     "name": "stdout",
     "output_type": "stream",
     "text": [
      "torch.Size([1, 253, 13]) torch.Size([1, 253, 13]) torch.Size([1, 253])\n",
      "torch.Size([253, 13, 15])\n",
      "torch.Size([3289, 15]) torch.Size([3289])\n",
      "98.82209245027836\n"
     ]
    },
    {
     "name": "stderr",
     "output_type": "stream",
     "text": [
      "  0%|          | 174/278416 [06:12<166:21:10,  2.15s/it]"
     ]
    },
    {
     "name": "stdout",
     "output_type": "stream",
     "text": [
      "torch.Size([1, 253, 13]) torch.Size([1, 253, 13]) torch.Size([1, 253])\n",
      "torch.Size([253, 13, 15])\n",
      "torch.Size([3289, 15]) torch.Size([3289])\n",
      "98.82170003909134\n"
     ]
    },
    {
     "name": "stderr",
     "output_type": "stream",
     "text": [
      "  0%|          | 175/278416 [06:14<173:47:14,  2.25s/it]"
     ]
    },
    {
     "name": "stdout",
     "output_type": "stream",
     "text": [
      "torch.Size([1, 253, 13]) torch.Size([1, 253, 13]) torch.Size([1, 253])\n",
      "torch.Size([253, 13, 15])\n",
      "torch.Size([3289, 15]) torch.Size([3289])\n",
      "98.81837530058874\n"
     ]
    },
    {
     "name": "stderr",
     "output_type": "stream",
     "text": [
      "  0%|          | 176/278416 [06:16<161:49:44,  2.09s/it]"
     ]
    },
    {
     "name": "stdout",
     "output_type": "stream",
     "text": [
      "torch.Size([1, 253, 13]) torch.Size([1, 253, 13]) torch.Size([1, 253])\n",
      "torch.Size([253, 13, 15])\n",
      "torch.Size([3289, 15]) torch.Size([3289])\n",
      "98.82195917568062\n"
     ]
    },
    {
     "name": "stderr",
     "output_type": "stream",
     "text": [
      "  0%|          | 177/278416 [06:18<156:49:24,  2.03s/it]"
     ]
    },
    {
     "name": "stdout",
     "output_type": "stream",
     "text": [
      "torch.Size([1, 253, 13]) torch.Size([1, 253, 13]) torch.Size([1, 253])\n",
      "torch.Size([253, 13, 15])\n",
      "torch.Size([3289, 15]) torch.Size([3289])\n",
      "98.82686927142228\n"
     ]
    },
    {
     "name": "stderr",
     "output_type": "stream",
     "text": [
      "  0%|          | 178/278416 [06:20<155:28:56,  2.01s/it]"
     ]
    },
    {
     "name": "stdout",
     "output_type": "stream",
     "text": [
      "torch.Size([1, 253, 13]) torch.Size([1, 253, 13]) torch.Size([1, 253])\n",
      "torch.Size([253, 13, 15])\n",
      "torch.Size([3289, 15]) torch.Size([3289])\n",
      "98.83308336065198\n"
     ]
    },
    {
     "name": "stderr",
     "output_type": "stream",
     "text": [
      "  0%|          | 179/278416 [06:22<159:15:46,  2.06s/it]"
     ]
    },
    {
     "name": "stdout",
     "output_type": "stream",
     "text": [
      "torch.Size([1, 253, 13]) torch.Size([1, 253, 13]) torch.Size([1, 253])\n",
      "torch.Size([253, 13, 15])\n",
      "torch.Size([3289, 15]) torch.Size([3289])\n",
      "98.83922840444579\n"
     ]
    },
    {
     "name": "stderr",
     "output_type": "stream",
     "text": [
      "  0%|          | 180/278416 [06:24<155:22:00,  2.01s/it]"
     ]
    },
    {
     "name": "stdout",
     "output_type": "stream",
     "text": [
      "torch.Size([1, 253, 13]) torch.Size([1, 253, 13]) torch.Size([1, 253])\n",
      "torch.Size([253, 13, 15])\n",
      "torch.Size([3289, 15]) torch.Size([3289])\n",
      "98.84463362724232\n"
     ]
    },
    {
     "name": "stderr",
     "output_type": "stream",
     "text": [
      "  0%|          | 181/278416 [06:26<158:19:58,  2.05s/it]"
     ]
    },
    {
     "name": "stdout",
     "output_type": "stream",
     "text": [
      "torch.Size([1, 253, 13]) torch.Size([1, 253, 13]) torch.Size([1, 253])\n",
      "torch.Size([253, 13, 15])\n",
      "torch.Size([3289, 15]) torch.Size([3289])\n",
      "98.84780771068397\n"
     ]
    },
    {
     "name": "stderr",
     "output_type": "stream",
     "text": [
      "  0%|          | 182/278416 [06:28<156:16:29,  2.02s/it]"
     ]
    },
    {
     "name": "stdout",
     "output_type": "stream",
     "text": [
      "torch.Size([1, 253, 13]) torch.Size([1, 253, 13]) torch.Size([1, 253])\n",
      "torch.Size([253, 13, 15])\n",
      "torch.Size([3289, 15]) torch.Size([3289])\n",
      "98.85028252811574\n"
     ]
    },
    {
     "name": "stderr",
     "output_type": "stream",
     "text": [
      "  0%|          | 183/278416 [06:30<157:10:59,  2.03s/it]"
     ]
    },
    {
     "name": "stdout",
     "output_type": "stream",
     "text": [
      "torch.Size([1, 253, 13]) torch.Size([1, 253, 13]) torch.Size([1, 253])\n",
      "torch.Size([253, 13, 15])\n",
      "torch.Size([3289, 15]) torch.Size([3289])\n",
      "98.85471333959046\n"
     ]
    },
    {
     "name": "stderr",
     "output_type": "stream",
     "text": [
      "  0%|          | 184/278416 [06:33<173:23:49,  2.24s/it]"
     ]
    },
    {
     "name": "stdout",
     "output_type": "stream",
     "text": [
      "torch.Size([1, 253, 13]) torch.Size([1, 253, 13]) torch.Size([1, 253])\n",
      "torch.Size([253, 13, 15])\n",
      "torch.Size([3289, 15]) torch.Size([3289])\n",
      "98.85695972652495\n"
     ]
    },
    {
     "name": "stderr",
     "output_type": "stream",
     "text": [
      "  0%|          | 185/278416 [06:35<161:42:11,  2.09s/it]"
     ]
    },
    {
     "name": "stdout",
     "output_type": "stream",
     "text": [
      "torch.Size([1, 253, 13]) torch.Size([1, 253, 13]) torch.Size([1, 253])\n",
      "torch.Size([253, 13, 15])\n",
      "torch.Size([3289, 15]) torch.Size([3289])\n",
      "98.86277817554115\n"
     ]
    },
    {
     "name": "stderr",
     "output_type": "stream",
     "text": [
      "  0%|          | 186/278416 [06:37<157:25:51,  2.04s/it]"
     ]
    },
    {
     "name": "stdout",
     "output_type": "stream",
     "text": [
      "torch.Size([1, 253, 13]) torch.Size([1, 253, 13]) torch.Size([1, 253])\n",
      "torch.Size([253, 13, 15])\n",
      "torch.Size([3289, 15]) torch.Size([3289])\n",
      "98.85341350116984\n"
     ]
    },
    {
     "name": "stderr",
     "output_type": "stream",
     "text": [
      "  0%|          | 187/278416 [06:39<163:36:45,  2.12s/it]"
     ]
    },
    {
     "name": "stdout",
     "output_type": "stream",
     "text": [
      "torch.Size([1, 253, 13]) torch.Size([1, 253, 13]) torch.Size([1, 253])\n",
      "torch.Size([253, 13, 15])\n",
      "torch.Size([3289, 15]) torch.Size([3289])\n",
      "98.85918891469308\n"
     ]
    },
    {
     "name": "stderr",
     "output_type": "stream",
     "text": [
      "  0%|          | 188/278416 [06:41<156:49:44,  2.03s/it]"
     ]
    },
    {
     "name": "stdout",
     "output_type": "stream",
     "text": [
      "torch.Size([1, 253, 13]) torch.Size([1, 253, 13]) torch.Size([1, 253])\n",
      "torch.Size([253, 13, 15])\n",
      "torch.Size([3289, 15]) torch.Size([3289])\n",
      "98.85010319792929\n"
     ]
    },
    {
     "name": "stderr",
     "output_type": "stream",
     "text": [
      "  0%|          | 189/278416 [06:43<154:48:48,  2.00s/it]"
     ]
    },
    {
     "name": "stdout",
     "output_type": "stream",
     "text": [
      "torch.Size([1, 253, 13]) torch.Size([1, 253, 13]) torch.Size([1, 253])\n",
      "torch.Size([253, 13, 15])\n",
      "torch.Size([3289, 15]) torch.Size([3289])\n",
      "98.85359491766815\n"
     ]
    },
    {
     "name": "stderr",
     "output_type": "stream",
     "text": [
      "  0%|          | 190/278416 [06:45<154:37:36,  2.00s/it]"
     ]
    },
    {
     "name": "stdout",
     "output_type": "stream",
     "text": [
      "torch.Size([1, 253, 13]) torch.Size([1, 253, 13]) torch.Size([1, 253])\n",
      "torch.Size([253, 13, 15])\n",
      "torch.Size([3289, 15]) torch.Size([3289])\n",
      "98.857686815802\n"
     ]
    },
    {
     "name": "stderr",
     "output_type": "stream",
     "text": [
      "  0%|          | 191/278416 [06:47<162:13:37,  2.10s/it]"
     ]
    },
    {
     "name": "stdout",
     "output_type": "stream",
     "text": [
      "torch.Size([1, 253, 13]) torch.Size([1, 253, 13]) torch.Size([1, 253])\n",
      "torch.Size([253, 13, 15])\n",
      "torch.Size([3289, 15]) torch.Size([3289])\n",
      "98.86015252863079\n"
     ]
    },
    {
     "name": "stderr",
     "output_type": "stream",
     "text": [
      "  0%|          | 192/278416 [06:49<166:52:47,  2.16s/it]"
     ]
    },
    {
     "name": "stdout",
     "output_type": "stream",
     "text": [
      "torch.Size([1, 253, 13]) torch.Size([1, 253, 13]) torch.Size([1, 253])\n",
      "torch.Size([253, 13, 15])\n",
      "torch.Size([3289, 15]) torch.Size([3289])\n",
      "98.8619625474773\n"
     ]
    },
    {
     "name": "stderr",
     "output_type": "stream",
     "text": [
      "  0%|          | 193/278416 [06:51<157:54:25,  2.04s/it]"
     ]
    },
    {
     "name": "stdout",
     "output_type": "stream",
     "text": [
      "torch.Size([1, 253, 13]) torch.Size([1, 253, 13]) torch.Size([1, 253])\n",
      "torch.Size([253, 13, 15])\n",
      "torch.Size([3289, 15]) torch.Size([3289])\n",
      "98.8631270119392\n"
     ]
    },
    {
     "name": "stderr",
     "output_type": "stream",
     "text": [
      "  0%|          | 194/278416 [06:53<163:08:48,  2.11s/it]"
     ]
    },
    {
     "name": "stdout",
     "output_type": "stream",
     "text": [
      "torch.Size([1, 253, 13]) torch.Size([1, 253, 13]) torch.Size([1, 253])\n",
      "torch.Size([253, 13, 15])\n",
      "torch.Size([3289, 15]) torch.Size([3289])\n",
      "98.86864529004997\n"
     ]
    },
    {
     "name": "stderr",
     "output_type": "stream",
     "text": [
      "  0%|          | 195/278416 [06:56<170:44:21,  2.21s/it]"
     ]
    },
    {
     "name": "stdout",
     "output_type": "stream",
     "text": [
      "torch.Size([1, 253, 13]) torch.Size([1, 253, 13]) torch.Size([1, 253])\n",
      "torch.Size([253, 13, 15])\n",
      "torch.Size([3289, 15]) torch.Size([3289])\n",
      "98.86479979647682\n"
     ]
    },
    {
     "name": "stderr",
     "output_type": "stream",
     "text": [
      "  0%|          | 196/278416 [06:59<189:17:09,  2.45s/it]"
     ]
    },
    {
     "name": "stdout",
     "output_type": "stream",
     "text": [
      "torch.Size([1, 253, 13]) torch.Size([1, 253, 13]) torch.Size([1, 253])\n",
      "torch.Size([253, 13, 15])\n",
      "torch.Size([3289, 15]) torch.Size([3289])\n",
      "98.87025356016748\n"
     ]
    },
    {
     "name": "stderr",
     "output_type": "stream",
     "text": [
      "  0%|          | 197/278416 [07:01<176:49:03,  2.29s/it]"
     ]
    },
    {
     "name": "stdout",
     "output_type": "stream",
     "text": [
      "torch.Size([1, 253, 13]) torch.Size([1, 253, 13]) torch.Size([1, 253])\n",
      "torch.Size([253, 13, 15])\n",
      "torch.Size([3289, 15]) torch.Size([3289])\n",
      "98.87549867787023\n"
     ]
    },
    {
     "name": "stderr",
     "output_type": "stream",
     "text": [
      "  0%|          | 198/278416 [07:03<168:25:44,  2.18s/it]"
     ]
    },
    {
     "name": "stdout",
     "output_type": "stream",
     "text": [
      "torch.Size([1, 253, 13]) torch.Size([1, 253, 13]) torch.Size([1, 253])\n",
      "torch.Size([253, 13, 15])\n",
      "torch.Size([3289, 15]) torch.Size([3289])\n",
      "98.87809372187786\n"
     ]
    },
    {
     "name": "stderr",
     "output_type": "stream",
     "text": [
      "  0%|          | 199/278416 [07:05<162:34:33,  2.10s/it]"
     ]
    },
    {
     "name": "stdout",
     "output_type": "stream",
     "text": [
      "torch.Size([1, 253, 13]) torch.Size([1, 253, 13]) torch.Size([1, 253])\n",
      "torch.Size([253, 13, 15])\n",
      "torch.Size([3289, 15]) torch.Size([3289])\n",
      "98.87671024627547\n"
     ]
    },
    {
     "name": "stderr",
     "output_type": "stream",
     "text": [
      "  0%|          | 200/278416 [07:06<153:04:35,  1.98s/it]"
     ]
    },
    {
     "name": "stdout",
     "output_type": "stream",
     "text": [
      "torch.Size([1, 253, 13]) torch.Size([1, 253, 13]) torch.Size([1, 253])\n",
      "torch.Size([253, 13, 15])\n",
      "torch.Size([3289, 15]) torch.Size([3289])\n",
      "98.87730698892283\n"
     ]
    },
    {
     "name": "stderr",
     "output_type": "stream",
     "text": [
      "  0%|          | 201/278416 [07:08<149:01:16,  1.93s/it]"
     ]
    },
    {
     "name": "stdout",
     "output_type": "stream",
     "text": [
      "torch.Size([1, 253, 13]) torch.Size([1, 253, 13]) torch.Size([1, 253])\n",
      "torch.Size([253, 13, 15])\n",
      "torch.Size([3289, 15]) torch.Size([3289])\n",
      "98.87759678977932\n"
     ]
    },
    {
     "name": "stderr",
     "output_type": "stream",
     "text": [
      "  0%|          | 202/278416 [07:10<140:50:54,  1.82s/it]"
     ]
    },
    {
     "name": "stdout",
     "output_type": "stream",
     "text": [
      "torch.Size([1, 253, 13]) torch.Size([1, 253, 13]) torch.Size([1, 253])\n",
      "torch.Size([253, 13, 15])\n",
      "torch.Size([3289, 15]) torch.Size([3289])\n",
      "98.88102901596154\n"
     ]
    },
    {
     "name": "stderr",
     "output_type": "stream",
     "text": [
      "  0%|          | 203/278416 [07:12<146:43:40,  1.90s/it]"
     ]
    },
    {
     "name": "stdout",
     "output_type": "stream",
     "text": [
      "torch.Size([1, 253, 13]) torch.Size([1, 253, 13]) torch.Size([1, 253])\n",
      "torch.Size([253, 13, 15])\n",
      "torch.Size([3289, 15]) torch.Size([3289])\n",
      "98.8844275928675\n"
     ]
    },
    {
     "name": "stderr",
     "output_type": "stream",
     "text": [
      "  0%|          | 204/278416 [07:13<138:16:37,  1.79s/it]"
     ]
    },
    {
     "name": "stdout",
     "output_type": "stream",
     "text": [
      "torch.Size([1, 253, 13]) torch.Size([1, 253, 13]) torch.Size([1, 253])\n",
      "torch.Size([253, 13, 15])\n",
      "torch.Size([3289, 15]) torch.Size([3289])\n",
      "98.88853458312632\n"
     ]
    },
    {
     "name": "stderr",
     "output_type": "stream",
     "text": [
      "  0%|          | 205/278416 [07:15<132:52:55,  1.72s/it]"
     ]
    },
    {
     "name": "stdout",
     "output_type": "stream",
     "text": [
      "torch.Size([1, 253, 13]) torch.Size([1, 253, 13]) torch.Size([1, 253])\n",
      "torch.Size([253, 13, 15])\n",
      "torch.Size([3289, 15]) torch.Size([3289])\n",
      "98.89009260051894\n"
     ]
    },
    {
     "name": "stderr",
     "output_type": "stream",
     "text": [
      "  0%|          | 206/278416 [07:16<131:17:56,  1.70s/it]"
     ]
    },
    {
     "name": "stdout",
     "output_type": "stream",
     "text": [
      "torch.Size([1, 253, 13]) torch.Size([1, 253, 13]) torch.Size([1, 253])\n",
      "torch.Size([253, 13, 15])\n",
      "torch.Size([3289, 15]) torch.Size([3289])\n",
      "98.88693537086732\n"
     ]
    },
    {
     "name": "stderr",
     "output_type": "stream",
     "text": [
      "  0%|          | 207/278416 [07:19<154:30:10,  2.00s/it]"
     ]
    },
    {
     "name": "stdout",
     "output_type": "stream",
     "text": [
      "torch.Size([1, 253, 13]) torch.Size([1, 253, 13]) torch.Size([1, 253])\n",
      "torch.Size([253, 13, 15])\n",
      "torch.Size([3289, 15]) torch.Size([3289])\n",
      "98.89082489416937\n"
     ]
    },
    {
     "name": "stderr",
     "output_type": "stream",
     "text": [
      "  0%|          | 208/278416 [07:22<166:10:22,  2.15s/it]"
     ]
    },
    {
     "name": "stdout",
     "output_type": "stream",
     "text": [
      "torch.Size([1, 253, 13]) torch.Size([1, 253, 13]) torch.Size([1, 253])\n",
      "torch.Size([253, 13, 15])\n",
      "torch.Size([3289, 15]) torch.Size([3289])\n",
      "98.89264054023779\n"
     ]
    },
    {
     "name": "stderr",
     "output_type": "stream",
     "text": [
      "  0%|          | 209/278416 [07:24<178:58:54,  2.32s/it]"
     ]
    },
    {
     "name": "stdout",
     "output_type": "stream",
     "text": [
      "torch.Size([1, 253, 13]) torch.Size([1, 253, 13]) torch.Size([1, 253])\n",
      "torch.Size([253, 13, 15])\n",
      "torch.Size([3289, 15]) torch.Size([3289])\n",
      "98.89704498400151\n"
     ]
    },
    {
     "name": "stderr",
     "output_type": "stream",
     "text": [
      "  0%|          | 210/278416 [07:27<182:57:40,  2.37s/it]"
     ]
    },
    {
     "name": "stdout",
     "output_type": "stream",
     "text": [
      "torch.Size([1, 253, 13]) torch.Size([1, 253, 13]) torch.Size([1, 253])\n",
      "torch.Size([253, 13, 15])\n",
      "torch.Size([3289, 15]) torch.Size([3289])\n",
      "98.90068719658665\n"
     ]
    },
    {
     "name": "stderr",
     "output_type": "stream",
     "text": [
      "  0%|          | 211/278416 [07:29<175:29:52,  2.27s/it]"
     ]
    },
    {
     "name": "stdout",
     "output_type": "stream",
     "text": [
      "torch.Size([1, 253, 13]) torch.Size([1, 253, 13]) torch.Size([1, 253])\n",
      "torch.Size([253, 13, 15])\n",
      "torch.Size([3289, 15]) torch.Size([3289])\n",
      "98.90300429676968\n"
     ]
    },
    {
     "name": "stderr",
     "output_type": "stream",
     "text": [
      "  0%|          | 212/278416 [07:31<169:43:57,  2.20s/it]"
     ]
    },
    {
     "name": "stdout",
     "output_type": "stream",
     "text": [
      "torch.Size([1, 253, 13]) torch.Size([1, 253, 13]) torch.Size([1, 253])\n",
      "torch.Size([253, 13, 15])\n",
      "torch.Size([3289, 15]) torch.Size([3289])\n",
      "98.90744079353999\n"
     ]
    },
    {
     "name": "stderr",
     "output_type": "stream",
     "text": [
      "  0%|          | 213/278416 [07:33<161:33:56,  2.09s/it]"
     ]
    },
    {
     "name": "stdout",
     "output_type": "stream",
     "text": [
      "torch.Size([1, 253, 13]) torch.Size([1, 253, 13]) torch.Size([1, 253])\n",
      "torch.Size([253, 13, 15])\n",
      "torch.Size([3289, 15]) torch.Size([3289])\n",
      "98.90842599091279\n"
     ]
    },
    {
     "name": "stderr",
     "output_type": "stream",
     "text": [
      "  0%|          | 214/278416 [07:35<154:06:34,  1.99s/it]"
     ]
    },
    {
     "name": "stdout",
     "output_type": "stream",
     "text": [
      "torch.Size([1, 253, 13]) torch.Size([1, 253, 13]) torch.Size([1, 253])\n",
      "torch.Size([253, 13, 15])\n",
      "torch.Size([3289, 15]) torch.Size([3289])\n",
      "98.91095759649855\n"
     ]
    },
    {
     "name": "stderr",
     "output_type": "stream",
     "text": [
      "  0%|          | 215/278416 [07:36<151:36:08,  1.96s/it]"
     ]
    },
    {
     "name": "stdout",
     "output_type": "stream",
     "text": [
      "torch.Size([1, 253, 13]) torch.Size([1, 253, 13]) torch.Size([1, 253])\n",
      "torch.Size([253, 13, 15])\n",
      "torch.Size([3289, 15]) torch.Size([3289])\n",
      "98.91501413240543\n"
     ]
    },
    {
     "name": "stderr",
     "output_type": "stream",
     "text": [
      "  0%|          | 216/278416 [07:38<147:33:30,  1.91s/it]"
     ]
    },
    {
     "name": "stdout",
     "output_type": "stream",
     "text": [
      "torch.Size([1, 253, 13]) torch.Size([1, 253, 13]) torch.Size([1, 253])\n",
      "torch.Size([253, 13, 15])\n",
      "torch.Size([3289, 15]) torch.Size([3289])\n",
      "98.91959373025291\n"
     ]
    },
    {
     "name": "stderr",
     "output_type": "stream",
     "text": [
      "  0%|          | 217/278416 [07:40<150:40:55,  1.95s/it]"
     ]
    },
    {
     "name": "stdout",
     "output_type": "stream",
     "text": [
      "torch.Size([1, 253, 13]) torch.Size([1, 253, 13]) torch.Size([1, 253])\n",
      "torch.Size([253, 13, 15])\n",
      "torch.Size([3289, 15]) torch.Size([3289])\n",
      "98.92301555644197\n"
     ]
    },
    {
     "name": "stderr",
     "output_type": "stream",
     "text": [
      "  0%|          | 218/278416 [07:42<149:03:21,  1.93s/it]"
     ]
    },
    {
     "name": "stdout",
     "output_type": "stream",
     "text": [
      "torch.Size([1, 253, 13]) torch.Size([1, 253, 13]) torch.Size([1, 253])\n",
      "torch.Size([253, 13, 15])\n",
      "torch.Size([3289, 15]) torch.Size([3289])\n",
      "98.92626730029946\n"
     ]
    },
    {
     "name": "stderr",
     "output_type": "stream",
     "text": [
      "  0%|          | 219/278416 [07:44<148:58:08,  1.93s/it]"
     ]
    },
    {
     "name": "stdout",
     "output_type": "stream",
     "text": [
      "torch.Size([1, 253, 13]) torch.Size([1, 253, 13]) torch.Size([1, 253])\n",
      "torch.Size([253, 13, 15])\n",
      "torch.Size([3289, 15]) torch.Size([3289])\n",
      "98.92948948284916\n"
     ]
    },
    {
     "name": "stderr",
     "output_type": "stream",
     "text": [
      "  0%|          | 220/278416 [07:46<144:41:28,  1.87s/it]"
     ]
    },
    {
     "name": "stdout",
     "output_type": "stream",
     "text": [
      "torch.Size([1, 253, 13]) torch.Size([1, 253, 13]) torch.Size([1, 253])\n",
      "torch.Size([253, 13, 15])\n",
      "torch.Size([3289, 15]) torch.Size([3289])\n",
      "98.93350796360829\n"
     ]
    },
    {
     "name": "stderr",
     "output_type": "stream",
     "text": [
      "  0%|          | 221/278416 [07:48<146:30:20,  1.90s/it]"
     ]
    },
    {
     "name": "stdout",
     "output_type": "stream",
     "text": [
      "torch.Size([1, 253, 13]) torch.Size([1, 253, 13]) torch.Size([1, 253])\n",
      "torch.Size([253, 13, 15])\n",
      "torch.Size([3289, 15]) torch.Size([3289])\n",
      "98.93790111181416\n"
     ]
    },
    {
     "name": "stderr",
     "output_type": "stream",
     "text": [
      "  0%|          | 222/278416 [07:51<167:42:10,  2.17s/it]"
     ]
    },
    {
     "name": "stdout",
     "output_type": "stream",
     "text": [
      "torch.Size([1, 253, 13]) torch.Size([1, 253, 13]) torch.Size([1, 253])\n",
      "torch.Size([253, 13, 15])\n",
      "torch.Size([3289, 15]) torch.Size([3289])\n",
      "98.94252754459423\n"
     ]
    },
    {
     "name": "stderr",
     "output_type": "stream",
     "text": [
      "  0%|          | 223/278416 [07:52<158:25:19,  2.05s/it]"
     ]
    },
    {
     "name": "stdout",
     "output_type": "stream",
     "text": [
      "torch.Size([1, 253, 13]) torch.Size([1, 253, 13]) torch.Size([1, 253])\n",
      "torch.Size([253, 13, 15])\n",
      "torch.Size([3289, 15]) torch.Size([3289])\n",
      "98.94412652564826\n"
     ]
    },
    {
     "name": "stderr",
     "output_type": "stream",
     "text": [
      "  0%|          | 224/278416 [07:54<157:07:04,  2.03s/it]"
     ]
    },
    {
     "name": "stdout",
     "output_type": "stream",
     "text": [
      "torch.Size([1, 253, 13]) torch.Size([1, 253, 13]) torch.Size([1, 253])\n",
      "torch.Size([253, 13, 15])\n",
      "torch.Size([3289, 15]) torch.Size([3289])\n",
      "98.94841390493565\n"
     ]
    },
    {
     "name": "stderr",
     "output_type": "stream",
     "text": [
      "  0%|          | 225/278416 [07:57<160:55:09,  2.08s/it]"
     ]
    },
    {
     "name": "stdout",
     "output_type": "stream",
     "text": [
      "torch.Size([1, 253, 13]) torch.Size([1, 253, 13]) torch.Size([1, 253])\n",
      "torch.Size([253, 13, 15])\n",
      "torch.Size([3289, 15]) torch.Size([3289])\n",
      "98.95293240810747\n"
     ]
    },
    {
     "name": "stderr",
     "output_type": "stream",
     "text": [
      "  0%|          | 226/278416 [07:58<156:12:45,  2.02s/it]"
     ]
    },
    {
     "name": "stdout",
     "output_type": "stream",
     "text": [
      "torch.Size([1, 253, 13]) torch.Size([1, 253, 13]) torch.Size([1, 253])\n",
      "torch.Size([253, 13, 15])\n",
      "torch.Size([3289, 15]) torch.Size([3289])\n",
      "98.95741110067867\n"
     ]
    },
    {
     "name": "stderr",
     "output_type": "stream",
     "text": [
      "  0%|          | 227/278416 [08:00<156:08:12,  2.02s/it]"
     ]
    },
    {
     "name": "stdout",
     "output_type": "stream",
     "text": [
      "torch.Size([1, 253, 13]) torch.Size([1, 253, 13]) torch.Size([1, 253])\n",
      "torch.Size([253, 13, 15])\n",
      "torch.Size([3289, 15]) torch.Size([3289])\n",
      "98.96158380140074\n"
     ]
    },
    {
     "name": "stderr",
     "output_type": "stream",
     "text": [
      "  0%|          | 228/278416 [08:03<164:16:23,  2.13s/it]"
     ]
    },
    {
     "name": "stdout",
     "output_type": "stream",
     "text": [
      "torch.Size([1, 253, 13]) torch.Size([1, 253, 13]) torch.Size([1, 253])\n",
      "torch.Size([253, 13, 15])\n",
      "torch.Size([3289, 15]) torch.Size([3289])\n",
      "98.96505620826866\n"
     ]
    },
    {
     "name": "stderr",
     "output_type": "stream",
     "text": [
      "  0%|          | 229/278416 [08:05<158:18:43,  2.05s/it]"
     ]
    },
    {
     "name": "stdout",
     "output_type": "stream",
     "text": [
      "torch.Size([1, 253, 13]) torch.Size([1, 253, 13]) torch.Size([1, 253])\n",
      "torch.Size([253, 13, 15])\n",
      "torch.Size([3289, 15]) torch.Size([3289])\n",
      "98.96902719208957\n"
     ]
    },
    {
     "name": "stderr",
     "output_type": "stream",
     "text": [
      "  0%|          | 230/278416 [08:07<156:07:24,  2.02s/it]"
     ]
    },
    {
     "name": "stdout",
     "output_type": "stream",
     "text": [
      "torch.Size([1, 253, 13]) torch.Size([1, 253, 13]) torch.Size([1, 253])\n",
      "torch.Size([253, 13, 15])\n",
      "torch.Size([3289, 15]) torch.Size([3289])\n",
      "98.97125272619344\n"
     ]
    },
    {
     "name": "stderr",
     "output_type": "stream",
     "text": [
      "  0%|          | 231/278416 [08:09<161:41:26,  2.09s/it]"
     ]
    },
    {
     "name": "stdout",
     "output_type": "stream",
     "text": [
      "torch.Size([1, 253, 13]) torch.Size([1, 253, 13]) torch.Size([1, 253])\n",
      "torch.Size([253, 13, 15])\n",
      "torch.Size([3289, 15]) torch.Size([3289])\n",
      "98.97476960820289\n"
     ]
    },
    {
     "name": "stderr",
     "output_type": "stream",
     "text": [
      "  0%|          | 232/278416 [08:11<155:57:43,  2.02s/it]"
     ]
    },
    {
     "name": "stdout",
     "output_type": "stream",
     "text": [
      "torch.Size([1, 253, 13]) torch.Size([1, 253, 13]) torch.Size([1, 253])\n",
      "torch.Size([253, 13, 15])\n",
      "torch.Size([3289, 15]) torch.Size([3289])\n",
      "98.97747335702178\n"
     ]
    },
    {
     "name": "stderr",
     "output_type": "stream",
     "text": [
      "  0%|          | 233/278416 [08:13<150:35:04,  1.95s/it]"
     ]
    },
    {
     "name": "stdout",
     "output_type": "stream",
     "text": [
      "torch.Size([1, 253, 13]) torch.Size([1, 253, 13]) torch.Size([1, 253])\n",
      "torch.Size([253, 13, 15])\n",
      "torch.Size([3289, 15]) torch.Size([3289])\n",
      "98.98015399687641\n"
     ]
    },
    {
     "name": "stderr",
     "output_type": "stream",
     "text": [
      "  0%|          | 234/278416 [08:15<155:18:33,  2.01s/it]"
     ]
    },
    {
     "name": "stdout",
     "output_type": "stream",
     "text": [
      "torch.Size([1, 253, 13]) torch.Size([1, 253, 13]) torch.Size([1, 253])\n",
      "torch.Size([253, 13, 15])\n",
      "torch.Size([3289, 15]) torch.Size([3289])\n",
      "98.98022421611691\n"
     ]
    },
    {
     "name": "stderr",
     "output_type": "stream",
     "text": [
      "  0%|          | 235/278416 [08:17<152:01:00,  1.97s/it]"
     ]
    },
    {
     "name": "stdout",
     "output_type": "stream",
     "text": [
      "torch.Size([1, 253, 13]) torch.Size([1, 253, 13]) torch.Size([1, 253])\n",
      "torch.Size([253, 13, 15])\n",
      "torch.Size([3289, 15]) torch.Size([3289])\n",
      "98.9839011393912\n"
     ]
    },
    {
     "name": "stderr",
     "output_type": "stream",
     "text": [
      "  0%|          | 236/278416 [08:18<148:57:50,  1.93s/it]"
     ]
    },
    {
     "name": "stdout",
     "output_type": "stream",
     "text": [
      "torch.Size([1, 253, 13]) torch.Size([1, 253, 13]) torch.Size([1, 253])\n",
      "torch.Size([253, 13, 15])\n",
      "torch.Size([3289, 15]) torch.Size([3289])\n",
      "98.98806018784005\n"
     ]
    },
    {
     "name": "stderr",
     "output_type": "stream",
     "text": [
      "  0%|          | 237/278416 [08:20<145:45:46,  1.89s/it]"
     ]
    },
    {
     "name": "stdout",
     "output_type": "stream",
     "text": [
      "torch.Size([1, 253, 13]) torch.Size([1, 253, 13]) torch.Size([1, 253])\n",
      "torch.Size([253, 13, 15])\n",
      "torch.Size([3289, 15]) torch.Size([3289])\n",
      "98.99205653681356\n"
     ]
    },
    {
     "name": "stderr",
     "output_type": "stream",
     "text": [
      "  0%|          | 238/278416 [08:22<144:31:49,  1.87s/it]"
     ]
    },
    {
     "name": "stdout",
     "output_type": "stream",
     "text": [
      "torch.Size([1, 253, 13]) torch.Size([1, 253, 13]) torch.Size([1, 253])\n",
      "torch.Size([253, 13, 15])\n",
      "torch.Size([3289, 15]) torch.Size([3289])\n",
      "98.99500172376287\n"
     ]
    },
    {
     "name": "stderr",
     "output_type": "stream",
     "text": [
      "  0%|          | 239/278416 [08:24<148:27:01,  1.92s/it]"
     ]
    },
    {
     "name": "stdout",
     "output_type": "stream",
     "text": [
      "torch.Size([1, 253, 13]) torch.Size([1, 253, 13]) torch.Size([1, 253])\n",
      "torch.Size([253, 13, 15])\n",
      "torch.Size([3289, 15]) torch.Size([3289])\n",
      "98.99602209384818\n"
     ]
    },
    {
     "name": "stderr",
     "output_type": "stream",
     "text": [
      "  0%|          | 240/278416 [08:26<145:32:23,  1.88s/it]"
     ]
    },
    {
     "name": "stdout",
     "output_type": "stream",
     "text": [
      "torch.Size([1, 253, 13]) torch.Size([1, 253, 13]) torch.Size([1, 253])\n",
      "torch.Size([253, 13, 15])\n",
      "torch.Size([3289, 15]) torch.Size([3289])\n",
      "98.9993048625558\n"
     ]
    },
    {
     "name": "stderr",
     "output_type": "stream",
     "text": [
      "  0%|          | 241/278416 [08:28<154:42:56,  2.00s/it]"
     ]
    },
    {
     "name": "stdout",
     "output_type": "stream",
     "text": [
      "torch.Size([1, 253, 13]) torch.Size([1, 253, 13]) torch.Size([1, 253])\n",
      "torch.Size([253, 13, 15])\n",
      "torch.Size([3289, 15]) torch.Size([3289])\n",
      "99.00256050094355\n"
     ]
    },
    {
     "name": "stderr",
     "output_type": "stream",
     "text": [
      "  0%|          | 242/278416 [08:30<148:49:40,  1.93s/it]"
     ]
    },
    {
     "name": "stdout",
     "output_type": "stream",
     "text": [
      "torch.Size([1, 253, 13]) torch.Size([1, 253, 13]) torch.Size([1, 253])\n",
      "torch.Size([253, 13, 15])\n",
      "torch.Size([3289, 15]) torch.Size([3289])\n",
      "99.00566422305553\n"
     ]
    },
    {
     "name": "stderr",
     "output_type": "stream",
     "text": [
      "  0%|          | 243/278416 [08:32<147:55:26,  1.91s/it]"
     ]
    },
    {
     "name": "stdout",
     "output_type": "stream",
     "text": [
      "torch.Size([1, 253, 13]) torch.Size([1, 253, 13]) torch.Size([1, 253])\n",
      "torch.Size([253, 13, 15])\n",
      "torch.Size([3289, 15]) torch.Size([3289])\n",
      "99.00774563996232\n"
     ]
    },
    {
     "name": "stderr",
     "output_type": "stream",
     "text": [
      "  0%|          | 244/278416 [08:34<151:37:10,  1.96s/it]"
     ]
    },
    {
     "name": "stdout",
     "output_type": "stream",
     "text": [
      "torch.Size([1, 253, 13]) torch.Size([1, 253, 13]) torch.Size([1, 253])\n",
      "torch.Size([253, 13, 15])\n",
      "torch.Size([3289, 15]) torch.Size([3289])\n",
      "99.00856907068088\n"
     ]
    },
    {
     "name": "stderr",
     "output_type": "stream",
     "text": [
      "  0%|          | 245/278416 [08:36<151:50:28,  1.97s/it]"
     ]
    },
    {
     "name": "stdout",
     "output_type": "stream",
     "text": [
      "torch.Size([1, 253, 13]) torch.Size([1, 253, 13]) torch.Size([1, 253])\n",
      "torch.Size([253, 13, 15])\n",
      "torch.Size([3289, 15]) torch.Size([3289])\n",
      "99.01086894724223\n"
     ]
    },
    {
     "name": "stderr",
     "output_type": "stream",
     "text": [
      "  0%|          | 246/278416 [08:38<150:23:51,  1.95s/it]"
     ]
    },
    {
     "name": "stdout",
     "output_type": "stream",
     "text": [
      "torch.Size([1, 253, 13]) torch.Size([1, 253, 13]) torch.Size([1, 253])\n",
      "torch.Size([253, 13, 15])\n",
      "torch.Size([3289, 15]) torch.Size([3289])\n",
      "99.01253472807777\n"
     ]
    },
    {
     "name": "stderr",
     "output_type": "stream",
     "text": [
      "  0%|          | 247/278416 [08:40<150:03:26,  1.94s/it]"
     ]
    },
    {
     "name": "stdout",
     "output_type": "stream",
     "text": [
      "torch.Size([1, 253, 13]) torch.Size([1, 253, 13]) torch.Size([1, 253])\n",
      "torch.Size([253, 13, 15])\n",
      "torch.Size([3289, 15]) torch.Size([3289])\n",
      "99.0083023568297\n"
     ]
    },
    {
     "name": "stderr",
     "output_type": "stream",
     "text": [
      "  0%|          | 248/278416 [08:42<156:36:35,  2.03s/it]"
     ]
    },
    {
     "name": "stdout",
     "output_type": "stream",
     "text": [
      "torch.Size([1, 253, 13]) torch.Size([1, 253, 13]) torch.Size([1, 253])\n",
      "torch.Size([253, 13, 15])\n",
      "torch.Size([3289, 15]) torch.Size([3289])\n",
      "99.00996506549151\n"
     ]
    },
    {
     "name": "stderr",
     "output_type": "stream",
     "text": [
      "  0%|          | 249/278416 [08:44<159:24:43,  2.06s/it]"
     ]
    },
    {
     "name": "stdout",
     "output_type": "stream",
     "text": [
      "torch.Size([1, 253, 13]) torch.Size([1, 253, 13]) torch.Size([1, 253])\n",
      "torch.Size([253, 13, 15])\n",
      "torch.Size([3289, 15]) torch.Size([3289])\n",
      "99.01161447248404\n"
     ]
    },
    {
     "name": "stderr",
     "output_type": "stream",
     "text": [
      "  0%|          | 250/278416 [08:46<161:34:08,  2.09s/it]"
     ]
    },
    {
     "name": "stdout",
     "output_type": "stream",
     "text": [
      "torch.Size([1, 253, 13]) torch.Size([1, 253, 13]) torch.Size([1, 253])\n",
      "torch.Size([253, 13, 15])\n",
      "torch.Size([3289, 15]) torch.Size([3289])\n",
      "99.01409866765835\n"
     ]
    },
    {
     "name": "stderr",
     "output_type": "stream",
     "text": [
      "  0%|          | 251/278416 [08:48<151:51:10,  1.97s/it]"
     ]
    },
    {
     "name": "stdout",
     "output_type": "stream",
     "text": [
      "torch.Size([1, 253, 13]) torch.Size([1, 253, 13]) torch.Size([1, 253])\n",
      "torch.Size([253, 13, 15])\n",
      "torch.Size([3289, 15]) torch.Size([3289])\n",
      "99.01680445158706\n"
     ]
    },
    {
     "name": "stderr",
     "output_type": "stream",
     "text": [
      "  0%|          | 252/278416 [08:50<147:49:31,  1.91s/it]"
     ]
    },
    {
     "name": "stdout",
     "output_type": "stream",
     "text": [
      "torch.Size([1, 253, 13]) torch.Size([1, 253, 13]) torch.Size([1, 253])\n",
      "torch.Size([253, 13, 15])\n",
      "torch.Size([3289, 15]) torch.Size([3289])\n",
      "99.02045024918371\n"
     ]
    },
    {
     "name": "stderr",
     "output_type": "stream",
     "text": [
      "  0%|          | 253/278416 [08:52<155:54:35,  2.02s/it]"
     ]
    },
    {
     "name": "stdout",
     "output_type": "stream",
     "text": [
      "torch.Size([1, 253, 13]) torch.Size([1, 253, 13]) torch.Size([1, 253])\n",
      "torch.Size([253, 13, 15])\n",
      "torch.Size([3289, 15]) torch.Size([3289])\n",
      "99.02322942377718\n"
     ]
    },
    {
     "name": "stderr",
     "output_type": "stream",
     "text": [
      "  0%|          | 254/278416 [08:53<146:45:52,  1.90s/it]"
     ]
    },
    {
     "name": "stdout",
     "output_type": "stream",
     "text": [
      "torch.Size([1, 253, 13]) torch.Size([1, 253, 13]) torch.Size([1, 253])\n",
      "torch.Size([253, 13, 15])\n",
      "torch.Size([3289, 15]) torch.Size([3289])\n",
      "99.02574833521125\n"
     ]
    },
    {
     "name": "stderr",
     "output_type": "stream",
     "text": [
      "  0%|          | 255/278416 [08:56<152:01:23,  1.97s/it]"
     ]
    },
    {
     "name": "stdout",
     "output_type": "stream",
     "text": [
      "torch.Size([1, 253, 13]) torch.Size([1, 253, 13]) torch.Size([1, 253])\n",
      "torch.Size([253, 13, 15])\n",
      "torch.Size([3289, 15]) torch.Size([3289])\n",
      "99.02824756764974\n"
     ]
    },
    {
     "name": "stderr",
     "output_type": "stream",
     "text": [
      "  0%|          | 256/278416 [08:57<143:28:12,  1.86s/it]"
     ]
    },
    {
     "name": "stdout",
     "output_type": "stream",
     "text": [
      "torch.Size([1, 253, 13]) torch.Size([1, 253, 13]) torch.Size([1, 253])\n",
      "torch.Size([253, 13, 15])\n",
      "torch.Size([3289, 15]) torch.Size([3289])\n",
      "99.03096396075587\n"
     ]
    },
    {
     "name": "stderr",
     "output_type": "stream",
     "text": [
      "  0%|          | 257/278416 [08:59<140:56:58,  1.82s/it]"
     ]
    },
    {
     "name": "stdout",
     "output_type": "stream",
     "text": [
      "torch.Size([1, 253, 13]) torch.Size([1, 253, 13]) torch.Size([1, 253])\n",
      "torch.Size([253, 13, 15])\n",
      "torch.Size([3289, 15]) torch.Size([3289])\n",
      "99.0334236036966\n"
     ]
    },
    {
     "name": "stderr",
     "output_type": "stream",
     "text": [
      "  0%|          | 258/278416 [09:01<136:50:29,  1.77s/it]"
     ]
    },
    {
     "name": "stdout",
     "output_type": "stream",
     "text": [
      "torch.Size([1, 253, 13]) torch.Size([1, 253, 13]) torch.Size([1, 253])\n",
      "torch.Size([253, 13, 15])\n",
      "torch.Size([3289, 15]) torch.Size([3289])\n",
      "99.03316425055556\n"
     ]
    },
    {
     "name": "stderr",
     "output_type": "stream",
     "text": [
      "  0%|          | 259/278416 [09:02<133:37:11,  1.73s/it]"
     ]
    },
    {
     "name": "stdout",
     "output_type": "stream",
     "text": [
      "torch.Size([1, 253, 13]) torch.Size([1, 253, 13]) torch.Size([1, 253])\n",
      "torch.Size([253, 13, 15])\n",
      "torch.Size([3289, 15]) torch.Size([3289])\n",
      "99.03653202984307\n"
     ]
    },
    {
     "name": "stderr",
     "output_type": "stream",
     "text": [
      "  0%|          | 260/278416 [09:04<132:41:07,  1.72s/it]"
     ]
    },
    {
     "name": "stdout",
     "output_type": "stream",
     "text": [
      "torch.Size([1, 253, 13]) torch.Size([1, 253, 13]) torch.Size([1, 253])\n",
      "torch.Size([253, 13, 15])\n",
      "torch.Size([3289, 15]) torch.Size([3289])\n",
      "99.03905855929844\n"
     ]
    },
    {
     "name": "stderr",
     "output_type": "stream",
     "text": [
      "  0%|          | 261/278416 [09:06<134:02:07,  1.73s/it]"
     ]
    },
    {
     "name": "stdout",
     "output_type": "stream",
     "text": [
      "torch.Size([1, 253, 13]) torch.Size([1, 253, 13]) torch.Size([1, 253])\n",
      "torch.Size([253, 13, 15])\n",
      "torch.Size([3289, 15]) torch.Size([3289])\n",
      "99.0395929991018\n"
     ]
    },
    {
     "name": "stderr",
     "output_type": "stream",
     "text": [
      "  0%|          | 262/278416 [09:07<130:59:27,  1.70s/it]"
     ]
    },
    {
     "name": "stdout",
     "output_type": "stream",
     "text": [
      "torch.Size([1, 253, 13]) torch.Size([1, 253, 13]) torch.Size([1, 253])\n",
      "torch.Size([253, 13, 15])\n",
      "torch.Size([3289, 15]) torch.Size([3289])\n",
      "99.04289791874517\n"
     ]
    },
    {
     "name": "stderr",
     "output_type": "stream",
     "text": [
      "  0%|          | 263/278416 [09:09<129:01:33,  1.67s/it]"
     ]
    },
    {
     "name": "stdout",
     "output_type": "stream",
     "text": [
      "torch.Size([1, 253, 13]) torch.Size([1, 253, 13]) torch.Size([1, 253])\n",
      "torch.Size([253, 13, 15])\n",
      "torch.Size([3289, 15]) torch.Size([3289])\n",
      "99.04468061582686\n"
     ]
    },
    {
     "name": "stderr",
     "output_type": "stream",
     "text": [
      "  0%|          | 264/278416 [09:11<133:25:16,  1.73s/it]"
     ]
    },
    {
     "name": "stdout",
     "output_type": "stream",
     "text": [
      "torch.Size([1, 253, 13]) torch.Size([1, 253, 13]) torch.Size([1, 253])\n",
      "torch.Size([253, 13, 15])\n",
      "torch.Size([3289, 15]) torch.Size([3289])\n",
      "99.04541725706615\n"
     ]
    },
    {
     "name": "stderr",
     "output_type": "stream",
     "text": [
      "  0%|          | 265/278416 [09:12<131:25:22,  1.70s/it]"
     ]
    },
    {
     "name": "stdout",
     "output_type": "stream",
     "text": [
      "torch.Size([1, 253, 13]) torch.Size([1, 253, 13]) torch.Size([1, 253])\n",
      "torch.Size([253, 13, 15])\n",
      "torch.Size([3289, 15]) torch.Size([3289])\n",
      "99.04866300747308\n"
     ]
    },
    {
     "name": "stderr",
     "output_type": "stream",
     "text": [
      "  0%|          | 266/278416 [09:14<128:45:57,  1.67s/it]"
     ]
    },
    {
     "name": "stdout",
     "output_type": "stream",
     "text": [
      "torch.Size([1, 253, 13]) torch.Size([1, 253, 13]) torch.Size([1, 253])\n",
      "torch.Size([253, 13, 15])\n",
      "torch.Size([3289, 15]) torch.Size([3289])\n",
      "99.04573524505132\n"
     ]
    },
    {
     "name": "stderr",
     "output_type": "stream",
     "text": [
      "  0%|          | 267/278416 [09:16<129:43:05,  1.68s/it]"
     ]
    },
    {
     "name": "stdout",
     "output_type": "stream",
     "text": [
      "torch.Size([1, 253, 13]) torch.Size([1, 253, 13]) torch.Size([1, 253])\n",
      "torch.Size([253, 13, 15])\n",
      "torch.Size([3289, 15]) torch.Size([3289])\n",
      "99.04895558691796\n"
     ]
    },
    {
     "name": "stderr",
     "output_type": "stream",
     "text": [
      "  0%|          | 268/278416 [09:18<148:28:01,  1.92s/it]"
     ]
    },
    {
     "name": "stdout",
     "output_type": "stream",
     "text": [
      "torch.Size([1, 253, 13]) torch.Size([1, 253, 13]) torch.Size([1, 253])\n",
      "torch.Size([253, 13, 15])\n",
      "torch.Size([3289, 15]) torch.Size([3289])\n",
      "99.052038958294\n"
     ]
    },
    {
     "name": "stderr",
     "output_type": "stream",
     "text": [
      "  0%|          | 269/278416 [09:20<148:30:06,  1.92s/it]"
     ]
    },
    {
     "name": "stdout",
     "output_type": "stream",
     "text": [
      "torch.Size([1, 253, 13]) torch.Size([1, 253, 13]) torch.Size([1, 253])\n",
      "torch.Size([253, 13, 15])\n",
      "torch.Size([3289, 15]) torch.Size([3289])\n",
      "99.05419861941601\n"
     ]
    },
    {
     "name": "stderr",
     "output_type": "stream",
     "text": [
      "  0%|          | 270/278416 [09:22<142:38:17,  1.85s/it]"
     ]
    },
    {
     "name": "stdout",
     "output_type": "stream",
     "text": [
      "torch.Size([1, 253, 13]) torch.Size([1, 253, 13]) torch.Size([1, 253])\n",
      "torch.Size([253, 13, 15])\n",
      "torch.Size([3289, 15]) torch.Size([3289])\n",
      "99.05555698913632\n"
     ]
    },
    {
     "name": "stderr",
     "output_type": "stream",
     "text": [
      "  0%|          | 271/278416 [09:24<161:41:58,  2.09s/it]"
     ]
    },
    {
     "name": "stdout",
     "output_type": "stream",
     "text": [
      "torch.Size([1, 253, 13]) torch.Size([1, 253, 13]) torch.Size([1, 253])\n",
      "torch.Size([253, 13, 15])\n",
      "torch.Size([3289, 15]) torch.Size([3289])\n",
      "99.04986318029796\n"
     ]
    },
    {
     "name": "stderr",
     "output_type": "stream",
     "text": [
      "  0%|          | 272/278416 [09:27<168:09:05,  2.18s/it]"
     ]
    },
    {
     "name": "stdout",
     "output_type": "stream",
     "text": [
      "torch.Size([1, 253, 13]) torch.Size([1, 253, 13]) torch.Size([1, 253])\n",
      "torch.Size([253, 13, 15])\n",
      "torch.Size([3289, 15]) torch.Size([3289])\n",
      "99.05256393550708\n"
     ]
    },
    {
     "name": "stderr",
     "output_type": "stream",
     "text": [
      "  0%|          | 273/278416 [09:29<179:02:55,  2.32s/it]"
     ]
    },
    {
     "name": "stdout",
     "output_type": "stream",
     "text": [
      "torch.Size([1, 253, 13]) torch.Size([1, 253, 13]) torch.Size([1, 253])\n",
      "torch.Size([253, 13, 15])\n",
      "torch.Size([3289, 15]) torch.Size([3289])\n",
      "99.05469015275426\n"
     ]
    },
    {
     "name": "stderr",
     "output_type": "stream",
     "text": [
      "  0%|          | 274/278416 [09:32<188:46:57,  2.44s/it]"
     ]
    },
    {
     "name": "stdout",
     "output_type": "stream",
     "text": [
      "torch.Size([1, 253, 13]) torch.Size([1, 253, 13]) torch.Size([1, 253])\n",
      "torch.Size([253, 13, 15])\n",
      "torch.Size([3289, 15]) torch.Size([3289])\n",
      "99.03888996379115\n"
     ]
    },
    {
     "name": "stderr",
     "output_type": "stream",
     "text": [
      "  0%|          | 275/278416 [09:35<186:44:19,  2.42s/it]"
     ]
    },
    {
     "name": "stdout",
     "output_type": "stream",
     "text": [
      "torch.Size([1, 253, 13]) torch.Size([1, 253, 13]) torch.Size([1, 253])\n",
      "torch.Size([253, 13, 15])\n",
      "torch.Size([3289, 15]) torch.Size([3289])\n",
      "99.04138079941482\n"
     ]
    },
    {
     "name": "stderr",
     "output_type": "stream",
     "text": [
      "  0%|          | 276/278416 [09:37<185:14:11,  2.40s/it]"
     ]
    },
    {
     "name": "stdout",
     "output_type": "stream",
     "text": [
      "torch.Size([1, 253, 13]) torch.Size([1, 253, 13]) torch.Size([1, 253])\n",
      "torch.Size([253, 13, 15])\n",
      "torch.Size([3289, 15]) torch.Size([3289])\n",
      "99.0424267303878\n"
     ]
    },
    {
     "name": "stderr",
     "output_type": "stream",
     "text": [
      "  0%|          | 277/278416 [09:39<167:43:34,  2.17s/it]"
     ]
    },
    {
     "name": "stdout",
     "output_type": "stream",
     "text": [
      "torch.Size([1, 253, 13]) torch.Size([1, 253, 13]) torch.Size([1, 253])\n",
      "torch.Size([253, 13, 15])\n",
      "torch.Size([3289, 15]) torch.Size([3289])\n",
      "99.04587123855188\n"
     ]
    },
    {
     "name": "stderr",
     "output_type": "stream",
     "text": [
      "  0%|          | 278/278416 [09:41<174:43:35,  2.26s/it]"
     ]
    },
    {
     "name": "stdout",
     "output_type": "stream",
     "text": [
      "torch.Size([1, 253, 13]) torch.Size([1, 253, 13]) torch.Size([1, 253])\n",
      "torch.Size([253, 13, 15])\n",
      "torch.Size([3289, 15]) torch.Size([3289])\n",
      "99.04907310236904\n"
     ]
    },
    {
     "name": "stderr",
     "output_type": "stream",
     "text": [
      "  0%|          | 279/278416 [09:44<186:15:16,  2.41s/it]"
     ]
    },
    {
     "name": "stdout",
     "output_type": "stream",
     "text": [
      "torch.Size([1, 253, 13]) torch.Size([1, 253, 13]) torch.Size([1, 253])\n",
      "torch.Size([253, 13, 15])\n",
      "torch.Size([3289, 15]) torch.Size([3289])\n",
      "99.0502975285584\n"
     ]
    },
    {
     "name": "stderr",
     "output_type": "stream",
     "text": [
      "  0%|          | 280/278416 [09:46<186:38:29,  2.42s/it]"
     ]
    },
    {
     "name": "stdout",
     "output_type": "stream",
     "text": [
      "torch.Size([1, 253, 13]) torch.Size([1, 253, 13]) torch.Size([1, 253])\n",
      "torch.Size([253, 13, 15])\n",
      "torch.Size([3289, 15]) torch.Size([3289])\n",
      "99.0519460425077\n"
     ]
    },
    {
     "name": "stderr",
     "output_type": "stream",
     "text": [
      "  0%|          | 281/278416 [09:49<190:54:02,  2.47s/it]"
     ]
    },
    {
     "name": "stdout",
     "output_type": "stream",
     "text": [
      "torch.Size([1, 253, 13]) torch.Size([1, 253, 13]) torch.Size([1, 253])\n",
      "torch.Size([253, 13, 15])\n",
      "torch.Size([3289, 15]) torch.Size([3289])\n",
      "99.05487666819766\n"
     ]
    },
    {
     "name": "stderr",
     "output_type": "stream",
     "text": [
      "  0%|          | 282/278416 [09:51<186:34:56,  2.42s/it]"
     ]
    },
    {
     "name": "stdout",
     "output_type": "stream",
     "text": [
      "torch.Size([1, 253, 13]) torch.Size([1, 253, 13]) torch.Size([1, 253])\n",
      "torch.Size([253, 13, 15])\n",
      "torch.Size([3289, 15]) torch.Size([3289])\n",
      "99.05585273537339\n"
     ]
    },
    {
     "name": "stderr",
     "output_type": "stream",
     "text": [
      "  0%|          | 283/278416 [09:53<177:20:28,  2.30s/it]"
     ]
    },
    {
     "name": "stdout",
     "output_type": "stream",
     "text": [
      "torch.Size([1, 253, 13]) torch.Size([1, 253, 13]) torch.Size([1, 253])\n",
      "torch.Size([253, 13, 15])\n",
      "torch.Size([3289, 15]) torch.Size([3289])\n",
      "99.05425254476081\n"
     ]
    },
    {
     "name": "stderr",
     "output_type": "stream",
     "text": [
      "  0%|          | 284/278416 [09:55<166:58:17,  2.16s/it]"
     ]
    },
    {
     "name": "stdout",
     "output_type": "stream",
     "text": [
      "torch.Size([1, 253, 13]) torch.Size([1, 253, 13]) torch.Size([1, 253])\n",
      "torch.Size([253, 13, 15])\n",
      "torch.Size([3289, 15]) torch.Size([3289])\n",
      "99.0573575928267\n"
     ]
    },
    {
     "name": "stderr",
     "output_type": "stream",
     "text": [
      "  0%|          | 285/278416 [09:57<160:55:55,  2.08s/it]"
     ]
    },
    {
     "name": "stdout",
     "output_type": "stream",
     "text": [
      "torch.Size([1, 253, 13]) torch.Size([1, 253, 13]) torch.Size([1, 253])\n",
      "torch.Size([253, 13, 15])\n",
      "torch.Size([3289, 15]) torch.Size([3289])\n",
      "99.06001569121058\n"
     ]
    },
    {
     "name": "stderr",
     "output_type": "stream",
     "text": [
      "  0%|          | 286/278416 [09:59<152:11:44,  1.97s/it]"
     ]
    },
    {
     "name": "stdout",
     "output_type": "stream",
     "text": [
      "torch.Size([1, 253, 13]) torch.Size([1, 253, 13]) torch.Size([1, 253])\n",
      "torch.Size([253, 13, 15])\n",
      "torch.Size([3289, 15]) torch.Size([3289])\n",
      "99.0611721258593\n"
     ]
    },
    {
     "name": "stderr",
     "output_type": "stream",
     "text": [
      "  0%|          | 287/278416 [10:00<148:27:32,  1.92s/it]"
     ]
    },
    {
     "name": "stdout",
     "output_type": "stream",
     "text": [
      "torch.Size([1, 253, 13]) torch.Size([1, 253, 13]) torch.Size([1, 253])\n",
      "torch.Size([253, 13, 15])\n",
      "torch.Size([3289, 15]) torch.Size([3289])\n",
      "99.05936454849498\n"
     ]
    },
    {
     "name": "stderr",
     "output_type": "stream",
     "text": [
      "  0%|          | 288/278416 [10:02<144:33:07,  1.87s/it]"
     ]
    },
    {
     "name": "stdout",
     "output_type": "stream",
     "text": [
      "torch.Size([1, 253, 13]) torch.Size([1, 253, 13]) torch.Size([1, 253])\n",
      "torch.Size([253, 13, 15])\n",
      "torch.Size([3289, 15]) torch.Size([3289])\n",
      "99.06083084960774\n"
     ]
    },
    {
     "name": "stderr",
     "output_type": "stream",
     "text": [
      "  0%|          | 289/278416 [10:04<140:50:54,  1.82s/it]"
     ]
    },
    {
     "name": "stdout",
     "output_type": "stream",
     "text": [
      "torch.Size([1, 253, 13]) torch.Size([1, 253, 13]) torch.Size([1, 253])\n",
      "torch.Size([253, 13, 15])\n",
      "torch.Size([3289, 15]) torch.Size([3289])\n",
      "99.06354515050167\n"
     ]
    },
    {
     "name": "stderr",
     "output_type": "stream",
     "text": [
      "  0%|          | 290/278416 [10:06<139:43:14,  1.81s/it]"
     ]
    },
    {
     "name": "stdout",
     "output_type": "stream",
     "text": [
      "torch.Size([1, 253, 13]) torch.Size([1, 253, 13]) torch.Size([1, 253])\n",
      "torch.Size([253, 13, 15])\n",
      "torch.Size([3289, 15]) torch.Size([3289])\n",
      "99.0666587260043\n"
     ]
    },
    {
     "name": "stderr",
     "output_type": "stream",
     "text": [
      "  0%|          | 291/278416 [10:08<142:30:20,  1.84s/it]"
     ]
    },
    {
     "name": "stdout",
     "output_type": "stream",
     "text": [
      "torch.Size([1, 253, 13]) torch.Size([1, 253, 13]) torch.Size([1, 253])\n",
      "torch.Size([253, 13, 15])\n",
      "torch.Size([3289, 15]) torch.Size([3289])\n",
      "99.06829323148561\n"
     ]
    },
    {
     "name": "stderr",
     "output_type": "stream",
     "text": [
      "  0%|          | 292/278416 [10:09<136:22:45,  1.77s/it]"
     ]
    },
    {
     "name": "stdout",
     "output_type": "stream",
     "text": [
      "torch.Size([1, 253, 13]) torch.Size([1, 253, 13]) torch.Size([1, 253])\n",
      "torch.Size([253, 13, 15])\n",
      "torch.Size([3289, 15]) torch.Size([3289])\n",
      "99.06991657993291\n"
     ]
    },
    {
     "name": "stderr",
     "output_type": "stream",
     "text": [
      "  0%|          | 293/278416 [10:11<147:59:14,  1.92s/it]"
     ]
    },
    {
     "name": "stdout",
     "output_type": "stream",
     "text": [
      "torch.Size([1, 253, 13]) torch.Size([1, 253, 13]) torch.Size([1, 253])\n",
      "torch.Size([253, 13, 15])\n",
      "torch.Size([3289, 15]) torch.Size([3289])\n",
      "99.07245963146585\n"
     ]
    },
    {
     "name": "stderr",
     "output_type": "stream",
     "text": [
      "  0%|          | 294/278416 [10:13<141:58:47,  1.84s/it]"
     ]
    },
    {
     "name": "stdout",
     "output_type": "stream",
     "text": [
      "torch.Size([1, 253, 13]) torch.Size([1, 253, 13]) torch.Size([1, 253])\n",
      "torch.Size([253, 13, 15])\n",
      "torch.Size([3289, 15]) torch.Size([3289])\n",
      "99.07529463903819\n"
     ]
    },
    {
     "name": "stderr",
     "output_type": "stream",
     "text": [
      "  0%|          | 295/278416 [10:15<149:48:39,  1.94s/it]"
     ]
    },
    {
     "name": "stdout",
     "output_type": "stream",
     "text": [
      "torch.Size([1, 253, 13]) torch.Size([1, 253, 13]) torch.Size([1, 253])\n",
      "torch.Size([253, 13, 15])\n",
      "torch.Size([3289, 15]) torch.Size([3289])\n",
      "99.07790505616593\n"
     ]
    },
    {
     "name": "stderr",
     "output_type": "stream",
     "text": [
      "  0%|          | 296/278416 [10:17<140:17:37,  1.82s/it]"
     ]
    },
    {
     "name": "stdout",
     "output_type": "stream",
     "text": [
      "torch.Size([1, 253, 13]) torch.Size([1, 253, 13]) torch.Size([1, 253])\n",
      "torch.Size([253, 13, 15])\n",
      "torch.Size([3289, 15]) torch.Size([3289])\n",
      "99.07619828568446\n"
     ]
    },
    {
     "name": "stderr",
     "output_type": "stream",
     "text": [
      "  0%|          | 297/278416 [10:18<133:12:57,  1.72s/it]"
     ]
    },
    {
     "name": "stdout",
     "output_type": "stream",
     "text": [
      "torch.Size([1, 253, 13]) torch.Size([1, 253, 13]) torch.Size([1, 253])\n",
      "torch.Size([253, 13, 15])\n",
      "torch.Size([3289, 15]) torch.Size([3289])\n",
      "99.07899220709258\n"
     ]
    },
    {
     "name": "stderr",
     "output_type": "stream",
     "text": [
      "  0%|          | 298/278416 [10:21<152:24:36,  1.97s/it]"
     ]
    },
    {
     "name": "stdout",
     "output_type": "stream",
     "text": [
      "torch.Size([1, 253, 13]) torch.Size([1, 253, 13]) torch.Size([1, 253])\n",
      "torch.Size([253, 13, 15])\n",
      "torch.Size([3289, 15]) torch.Size([3289])\n",
      "99.08115731876093\n"
     ]
    },
    {
     "name": "stderr",
     "output_type": "stream",
     "text": [
      "  0%|          | 299/278416 [10:23<148:50:47,  1.93s/it]"
     ]
    },
    {
     "name": "stdout",
     "output_type": "stream",
     "text": [
      "torch.Size([1, 253, 13]) torch.Size([1, 253, 13]) torch.Size([1, 253])\n",
      "torch.Size([253, 13, 15])\n",
      "torch.Size([3289, 15]) torch.Size([3289])\n",
      "99.08361204013377\n"
     ]
    },
    {
     "name": "stderr",
     "output_type": "stream",
     "text": [
      "  0%|          | 300/278416 [10:24<140:51:38,  1.82s/it]"
     ]
    },
    {
     "name": "stdout",
     "output_type": "stream",
     "text": [
      "torch.Size([1, 253, 13]) torch.Size([1, 253, 13]) torch.Size([1, 253])\n",
      "torch.Size([253, 13, 15])\n",
      "torch.Size([3289, 15]) torch.Size([3289])\n",
      "99.0858484286189\n"
     ]
    },
    {
     "name": "stderr",
     "output_type": "stream",
     "text": [
      "  0%|          | 301/278416 [10:27<163:40:10,  2.12s/it]"
     ]
    },
    {
     "name": "stdout",
     "output_type": "stream",
     "text": [
      "torch.Size([1, 253, 13]) torch.Size([1, 253, 13]) torch.Size([1, 253])\n",
      "torch.Size([253, 13, 15])\n",
      "torch.Size([3289, 15]) torch.Size([3289])\n",
      "99.0886740670789\n"
     ]
    },
    {
     "name": "stderr",
     "output_type": "stream",
     "text": [
      "  0%|          | 302/278416 [10:30<172:54:10,  2.24s/it]"
     ]
    },
    {
     "name": "stdout",
     "output_type": "stream",
     "text": [
      "torch.Size([1, 253, 13]) torch.Size([1, 253, 13]) torch.Size([1, 253])\n",
      "torch.Size([253, 13, 15])\n",
      "torch.Size([3289, 15]) torch.Size([3289])\n",
      "99.09007623170343\n"
     ]
    },
    {
     "name": "stderr",
     "output_type": "stream",
     "text": [
      "  0%|          | 303/278416 [10:32<180:56:44,  2.34s/it]"
     ]
    },
    {
     "name": "stdout",
     "output_type": "stream",
     "text": [
      "torch.Size([1, 253, 13]) torch.Size([1, 253, 13]) torch.Size([1, 253])\n",
      "torch.Size([253, 13, 15])\n",
      "torch.Size([3289, 15]) torch.Size([3289])\n",
      "99.09236930117937\n"
     ]
    },
    {
     "name": "stderr",
     "output_type": "stream",
     "text": [
      "  0%|          | 304/278416 [10:35<189:20:06,  2.45s/it]"
     ]
    },
    {
     "name": "stdout",
     "output_type": "stream",
     "text": [
      "torch.Size([1, 253, 13]) torch.Size([1, 253, 13]) torch.Size([1, 253])\n",
      "torch.Size([253, 13, 15])\n",
      "torch.Size([3289, 15]) torch.Size([3289])\n",
      "99.09484670710616\n"
     ]
    },
    {
     "name": "stderr",
     "output_type": "stream",
     "text": [
      "  0%|          | 305/278416 [10:37<183:15:06,  2.37s/it]"
     ]
    },
    {
     "name": "stdout",
     "output_type": "stream",
     "text": [
      "torch.Size([1, 253, 13]) torch.Size([1, 253, 13]) torch.Size([1, 253])\n",
      "torch.Size([253, 13, 15])\n",
      "torch.Size([3289, 15]) torch.Size([3289])\n",
      "99.09760600297685\n"
     ]
    },
    {
     "name": "stderr",
     "output_type": "stream",
     "text": [
      "  0%|          | 306/278416 [10:39<183:32:56,  2.38s/it]"
     ]
    },
    {
     "name": "stdout",
     "output_type": "stream",
     "text": [
      "torch.Size([1, 253, 13]) torch.Size([1, 253, 13]) torch.Size([1, 253])\n",
      "torch.Size([253, 13, 15])\n",
      "torch.Size([3289, 15]) torch.Size([3289])\n",
      "99.09925791528964\n"
     ]
    },
    {
     "name": "stderr",
     "output_type": "stream",
     "text": [
      "  0%|          | 306/278416 [10:41<162:00:05,  2.10s/it]\n"
     ]
    },
    {
     "ename": "KeyboardInterrupt",
     "evalue": "",
     "output_type": "error",
     "traceback": [
      "\u001b[1;31m---------------------------------------------------------------------------\u001b[0m",
      "\u001b[1;31mKeyboardInterrupt\u001b[0m                         Traceback (most recent call last)",
      "Cell \u001b[1;32mIn[15], line 1\u001b[0m\n\u001b[1;32m----> 1\u001b[0m train(model, dataset)\n",
      "Cell \u001b[1;32mIn[14], line 46\u001b[0m, in \u001b[0;36mtrain\u001b[1;34m(model, train_dataset, batch_size, epochs, learning_rate)\u001b[0m\n\u001b[0;32m     43\u001b[0m optimizer\u001b[38;5;241m.\u001b[39mzero_grad()\n\u001b[0;32m     45\u001b[0m \u001b[38;5;66;03m# (11) do the backward pass\u001b[39;00m\n\u001b[1;32m---> 46\u001b[0m batch_loss\u001b[38;5;241m.\u001b[39mbackward()\n\u001b[0;32m     47\u001b[0m nn\u001b[38;5;241m.\u001b[39mutils\u001b[38;5;241m.\u001b[39mclip_grad_norm(model\u001b[38;5;241m.\u001b[39mparameters(), max_norm\u001b[38;5;241m=\u001b[39m\u001b[38;5;241m1\u001b[39m)\n\u001b[0;32m     49\u001b[0m \u001b[38;5;66;03m# (12) update the weights with your optimizer\u001b[39;00m\n",
      "File \u001b[1;32mc:\\Users\\sohad\\anaconda3\\Lib\\site-packages\\torch\\_tensor.py:492\u001b[0m, in \u001b[0;36mTensor.backward\u001b[1;34m(self, gradient, retain_graph, create_graph, inputs)\u001b[0m\n\u001b[0;32m    482\u001b[0m \u001b[38;5;28;01mif\u001b[39;00m has_torch_function_unary(\u001b[38;5;28mself\u001b[39m):\n\u001b[0;32m    483\u001b[0m     \u001b[38;5;28;01mreturn\u001b[39;00m handle_torch_function(\n\u001b[0;32m    484\u001b[0m         Tensor\u001b[38;5;241m.\u001b[39mbackward,\n\u001b[0;32m    485\u001b[0m         (\u001b[38;5;28mself\u001b[39m,),\n\u001b[1;32m   (...)\u001b[0m\n\u001b[0;32m    490\u001b[0m         inputs\u001b[38;5;241m=\u001b[39minputs,\n\u001b[0;32m    491\u001b[0m     )\n\u001b[1;32m--> 492\u001b[0m torch\u001b[38;5;241m.\u001b[39mautograd\u001b[38;5;241m.\u001b[39mbackward(\n\u001b[0;32m    493\u001b[0m     \u001b[38;5;28mself\u001b[39m, gradient, retain_graph, create_graph, inputs\u001b[38;5;241m=\u001b[39minputs\n\u001b[0;32m    494\u001b[0m )\n",
      "File \u001b[1;32mc:\\Users\\sohad\\anaconda3\\Lib\\site-packages\\torch\\autograd\\__init__.py:251\u001b[0m, in \u001b[0;36mbackward\u001b[1;34m(tensors, grad_tensors, retain_graph, create_graph, grad_variables, inputs)\u001b[0m\n\u001b[0;32m    246\u001b[0m     retain_graph \u001b[38;5;241m=\u001b[39m create_graph\n\u001b[0;32m    248\u001b[0m \u001b[38;5;66;03m# The reason we repeat the same comment below is that\u001b[39;00m\n\u001b[0;32m    249\u001b[0m \u001b[38;5;66;03m# some Python versions print out the first line of a multi-line function\u001b[39;00m\n\u001b[0;32m    250\u001b[0m \u001b[38;5;66;03m# calls in the traceback and some print out the last line\u001b[39;00m\n\u001b[1;32m--> 251\u001b[0m Variable\u001b[38;5;241m.\u001b[39m_execution_engine\u001b[38;5;241m.\u001b[39mrun_backward(  \u001b[38;5;66;03m# Calls into the C++ engine to run the backward pass\u001b[39;00m\n\u001b[0;32m    252\u001b[0m     tensors,\n\u001b[0;32m    253\u001b[0m     grad_tensors_,\n\u001b[0;32m    254\u001b[0m     retain_graph,\n\u001b[0;32m    255\u001b[0m     create_graph,\n\u001b[0;32m    256\u001b[0m     inputs,\n\u001b[0;32m    257\u001b[0m     allow_unreachable\u001b[38;5;241m=\u001b[39m\u001b[38;5;28;01mTrue\u001b[39;00m,\n\u001b[0;32m    258\u001b[0m     accumulate_grad\u001b[38;5;241m=\u001b[39m\u001b[38;5;28;01mTrue\u001b[39;00m,\n\u001b[0;32m    259\u001b[0m )\n",
      "\u001b[1;31mKeyboardInterrupt\u001b[0m: "
     ]
    }
   ],
   "source": [
    "train(model, dataset)"
   ]
  },
  {
   "cell_type": "markdown",
   "metadata": {},
   "source": [
    "## testing second model for char level encoding"
   ]
  },
  {
   "cell_type": "code",
   "execution_count": null,
   "metadata": {},
   "outputs": [],
   "source": [
    "# looping over lstm_output to remove unwanted feature vectors\n",
    "no_of_sentences, length_of_sentence, feature_vector_size = lstm_output.shape\n",
    "\n",
    "lstm_output_without_padding = list()\n",
    "for i in range(no_of_sentences):\n",
    "    lstm_output_without_padding.extend(lstm_output[i, 1:len(dataset.x_train_words[i])-1, :])\n",
    "\n",
    "# print(lstm_output_without_padding[0:6])\n",
    "\n",
    "\n",
    "# x_train_letter_concatinated = [[np.concatenate(one_hot_enconding[letter_index], lstm_output_without_padding[i]) for letter_index in x_train_letter_indices[i]] for i in range(len(dataset.x_train_letters))]\n",
    "\n",
    "x_train_letter_concatenated = []\n",
    "\n",
    "for i in range(len(dataset.x_train_letters)):\n",
    "    concatenated_arrays = []\n",
    "    for letter in dataset.x_train_letters[i]:\n",
    "        concatenated_arrays.append(np.concatenate([one_hot_enconding[dataset.arabic_alphabet[letter]], lstm_output_without_padding[i]]))\n",
    "    x_train_letter_concatenated.extend(concatenated_arrays)\n",
    "\n",
    "\n",
    "#[['ق', 'و', 'ل', 'ه'], ['أ', 'و'], ['ق', 'ط', 'ع'], ['ا', 'ل', 'أ', 'و', 'ل']]"
   ]
  },
  {
   "cell_type": "code",
   "execution_count": null,
   "metadata": {},
   "outputs": [],
   "source": [
    "y_train_letter = [dataset.harakat[diacritic] for diacritic in dataset.y_train_letters]"
   ]
  },
  {
   "cell_type": "markdown",
   "metadata": {},
   "source": [
    "## constructing model 2"
   ]
  },
  {
   "cell_type": "code",
   "execution_count": null,
   "metadata": {},
   "outputs": [],
   "source": [
    "bi_lstm_model_char = Sequential()\n",
    "first_bidirectional_layer = Bidirectional(LSTM(units=64, return_sequences=True))\n",
    "bi_lstm_model_char.add(Dense(255, activation='softmax'))\n",
    "\n",
    "bi_lstm_model_char.compile(optimizer='adam', loss='categorical_crossentropy', metrics=['accuracy'])\n",
    "\n",
    "bi_lstm_model_char.fit(np.array(x_train_letter_concatenated), np.array(y_train_letter), epochs=10, batch_size=32)\n",
    "score = bi_lstm_model_char.evaluate(np.array(x_train_letter_concatenated), np.array(y_train_letter))\n",
    "print(\"Test accuracy:\", score[1])\n",
    "\n",
    "bi_lstm_model_char.save(\"char-model\")"
   ]
  },
  {
   "cell_type": "code",
   "execution_count": null,
   "metadata": {},
   "outputs": [],
   "source": [
    "print(x_train_padded.shape)"
   ]
  },
  {
   "cell_type": "code",
   "execution_count": null,
   "metadata": {},
   "outputs": [],
   "source": [
    "word_input = Input(shape=(max_word_length,))\n",
    "word_embedding = Embedding(input_dim=num_words, output_dim=embedding_dim)(word_input)\n",
    "word_lstm = Bidirectional(LSTM(units=lstm_units, return_sequences=True))(word_embedding)"
   ]
  }
 ],
 "metadata": {
  "kernelspec": {
   "display_name": "base",
   "language": "python",
   "name": "python3"
  },
  "language_info": {
   "codemirror_mode": {
    "name": "ipython",
    "version": 3
   },
   "file_extension": ".py",
   "mimetype": "text/x-python",
   "name": "python",
   "nbconvert_exporter": "python",
   "pygments_lexer": "ipython3",
   "version": "3.11.5"
  }
 },
 "nbformat": 4,
 "nbformat_minor": 2
}
